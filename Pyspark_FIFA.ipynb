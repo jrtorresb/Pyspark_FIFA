{
  "nbformat": 4,
  "nbformat_minor": 0,
  "metadata": {
    "colab": {
      "name": "Pyspark_FIFA.ipynb",
      "provenance": [],
      "collapsed_sections": [],
      "toc_visible": true,
      "authorship_tag": "ABX9TyOQA4vN3VWub4iVIQL1FTUP",
      "include_colab_link": true
    },
    "kernelspec": {
      "name": "python3",
      "display_name": "Python 3"
    }
  },
  "cells": [
    {
      "cell_type": "markdown",
      "metadata": {
        "id": "view-in-github",
        "colab_type": "text"
      },
      "source": [
        "<a href=\"https://colab.research.google.com/github/jrtorresb/Pyspark_FIFA/blob/main/Pyspark_FIFA.ipynb\" target=\"_parent\"><img src=\"https://colab.research.google.com/assets/colab-badge.svg\" alt=\"Open In Colab\"/></a>"
      ]
    },
    {
      "cell_type": "markdown",
      "metadata": {
        "id": "ostvdFwI5XlG"
      },
      "source": [
        "# FIFA CHALLENGE"
      ]
    },
    {
      "cell_type": "code",
      "metadata": {
        "colab": {
          "base_uri": "https://localhost:8080/"
        },
        "id": "dxrUgEl54wu1",
        "outputId": "9d20c2c3-888f-4461-f358-2e4a8cecc961"
      },
      "source": [
        "# Install Spark in Google Colab\r\n",
        "!apt-get install openjdk-8-jdk-headless -qq > /dev/null\r\n",
        "!wget -q https://www-us.apache.org/dist/spark/spark-2.4.7/spark-2.4.7-bin-hadoop2.7.tgz\r\n",
        "!tar xf spark-2.4.7-bin-hadoop2.7.tgz\r\n",
        "!pip install -q findspark\r\n",
        "\r\n",
        "!pip install findspark\r\n",
        "!pip install \"pyspark==2.4.7\" \r\n",
        "\r\n",
        "\r\n",
        "import os\r\n",
        "os.environ[\"JAVA_HOME\"] = \"/usr/lib/jvm/java-8-openjdk-amd64\"\r\n",
        "os.environ[\"SPARK_HOME\"] = \"/content/spark-2.4.7-bin-hadoop2.7\"\r\n",
        "\r\n",
        "print(os.environ)"
      ],
      "execution_count": null,
      "outputs": [
        {
          "output_type": "stream",
          "text": [
            "Requirement already satisfied: findspark in /usr/local/lib/python3.7/dist-packages (1.4.2)\n",
            "Collecting pyspark==2.4.7\n",
            "\u001b[?25l  Downloading https://files.pythonhosted.org/packages/e2/06/29f80e5a464033432eedf89924e7aa6ebbc47ce4dcd956853a73627f2c07/pyspark-2.4.7.tar.gz (217.9MB)\n",
            "\u001b[K     |████████████████████████████████| 217.9MB 66kB/s \n",
            "\u001b[?25hCollecting py4j==0.10.7\n",
            "\u001b[?25l  Downloading https://files.pythonhosted.org/packages/e3/53/c737818eb9a7dc32a7cd4f1396e787bd94200c3997c72c1dbe028587bd76/py4j-0.10.7-py2.py3-none-any.whl (197kB)\n",
            "\u001b[K     |████████████████████████████████| 204kB 18.8MB/s \n",
            "\u001b[?25hBuilding wheels for collected packages: pyspark\n",
            "  Building wheel for pyspark (setup.py) ... \u001b[?25l\u001b[?25hdone\n",
            "  Created wheel for pyspark: filename=pyspark-2.4.7-py2.py3-none-any.whl size=218279465 sha256=6663b6e11c46807ff82012cbf8bcd8fe8c2f8e0fe102a14c12880245ae80bfdc\n",
            "  Stored in directory: /root/.cache/pip/wheels/34/1f/2e/1e7460f80acf26b08dbb8c53d7ff9e07146f2a68dd5c732be5\n",
            "Successfully built pyspark\n",
            "Installing collected packages: py4j, pyspark\n",
            "Successfully installed py4j-0.10.7 pyspark-2.4.7\n",
            "environ({'NO_GCE_CHECK': 'True', 'GCS_READ_CACHE_BLOCK_SIZE_MB': '16', 'CLOUDSDK_CONFIG': '/content/.config', 'CUDA_VERSION': '10.1.243', 'PATH': '/usr/local/nvidia/bin:/usr/local/cuda/bin:/usr/local/sbin:/usr/local/bin:/usr/sbin:/usr/bin:/sbin:/bin:/tools/node/bin:/tools/google-cloud-sdk/bin:/opt/bin', 'HOME': '/root', 'LD_LIBRARY_PATH': '/usr/local/nvidia/lib:/usr/local/nvidia/lib64', 'LANG': 'en_US.UTF-8', 'SHELL': '/bin/bash', 'LIBRARY_PATH': '/usr/local/cuda/lib64/stubs', 'CUDA_PKG_VERSION': '10-1=10.1.243-1', 'SHLVL': '0', 'GCE_METADATA_TIMEOUT': '0', 'NCCL_VERSION': '2.8.3', 'NVIDIA_VISIBLE_DEVICES': 'all', 'DEBIAN_FRONTEND': 'noninteractive', 'CUDNN_VERSION': '7.6.5.32', 'LAST_FORCED_REBUILD': '202102019', 'JPY_PARENT_PID': '46', 'PYTHONPATH': '/env/python', 'DATALAB_SETTINGS_OVERRIDES': '{\"kernelManagerProxyPort\":6000,\"kernelManagerProxyHost\":\"172.28.0.3\",\"jupyterArgs\":[\"--ip=\\\\\"172.28.0.2\\\\\"\"],\"debugAdapterMultiplexerPath\":\"/usr/local/bin/dap_multiplexer\"}', 'ENV': '/root/.bashrc', 'GLIBCXX_FORCE_NEW': '1', 'NVIDIA_DRIVER_CAPABILITIES': 'compute,utility', 'TF_FORCE_GPU_ALLOW_GROWTH': 'true', 'LD_PRELOAD': '/usr/lib/x86_64-linux-gnu/libtcmalloc.so.4', 'NVIDIA_REQUIRE_CUDA': 'cuda>=10.1 brand=tesla,driver>=396,driver<397 brand=tesla,driver>=410,driver<411 brand=tesla,driver>=418,driver<419', 'OLDPWD': '/', 'HOSTNAME': 'f70598728f5b', 'COLAB_GPU': '0', 'PWD': '/', 'CLOUDSDK_PYTHON': 'python3', 'GLIBCPP_FORCE_NEW': '1', 'PYTHONWARNINGS': 'ignore:::pip._internal.cli.base_command', 'TBE_CREDS_ADDR': '172.28.0.1:8008', 'TERM': 'xterm-color', 'CLICOLOR': '1', 'PAGER': 'cat', 'GIT_PAGER': 'cat', 'MPLBACKEND': 'module://ipykernel.pylab.backend_inline', 'JAVA_HOME': '/usr/lib/jvm/java-8-openjdk-amd64', 'SPARK_HOME': '/content/spark-2.4.7-bin-hadoop2.7'})\n"
          ],
          "name": "stdout"
        }
      ]
    },
    {
      "cell_type": "code",
      "metadata": {
        "id": "Dvs0xcSa5ade"
      },
      "source": [
        "# Pyspark packages\r\n",
        "from pyspark import SparkContext, SparkConf\r\n",
        "from pyspark.sql import SparkSession\r\n",
        "from pyspark.sql.functions import *\r\n",
        "from pyspark.sql.types import *\r\n",
        "\r\n",
        "# Python packages\r\n",
        "import numpy as np\r\n",
        "import pandas as pd\r\n",
        "from datetime import datetime\r\n",
        "import plotly.express as px"
      ],
      "execution_count": null,
      "outputs": []
    },
    {
      "cell_type": "code",
      "metadata": {
        "id": "5y7V0pxZ6Kwg"
      },
      "source": [
        "sc= SparkContext.getOrCreate()\r\n",
        "spark= SparkSession(sc)"
      ],
      "execution_count": null,
      "outputs": []
    },
    {
      "cell_type": "code",
      "metadata": {
        "colab": {
          "base_uri": "https://localhost:8080/"
        },
        "id": "RpEz_Jbk6Ma1",
        "outputId": "35ba7647-5e96-4b78-bc62-1d6251106839"
      },
      "source": [
        "%%time\r\n",
        "# Read the CSV file\r\n",
        "df_raw= spark.read.csv('fifa21_male2.csv', header= True)"
      ],
      "execution_count": null,
      "outputs": [
        {
          "output_type": "stream",
          "text": [
            "CPU times: user 2.23 ms, sys: 77 µs, total: 2.31 ms\n",
            "Wall time: 190 ms\n"
          ],
          "name": "stdout"
        }
      ]
    },
    {
      "cell_type": "code",
      "metadata": {
        "colab": {
          "base_uri": "https://localhost:8080/"
        },
        "id": "8yrC44jP84JL",
        "outputId": "8f5819ad-ddfb-4d29-f9e5-6e50fd4783d5"
      },
      "source": [
        "# Print Schema\r\n",
        "df_raw.printSchema()"
      ],
      "execution_count": null,
      "outputs": [
        {
          "output_type": "stream",
          "text": [
            "root\n",
            " |-- ID: string (nullable = true)\n",
            " |-- Name: string (nullable = true)\n",
            " |-- Age: string (nullable = true)\n",
            " |-- OVA: string (nullable = true)\n",
            " |-- Nationality: string (nullable = true)\n",
            " |-- Club: string (nullable = true)\n",
            " |-- BOV: string (nullable = true)\n",
            " |-- BP: string (nullable = true)\n",
            " |-- Position: string (nullable = true)\n",
            " |-- Player Photo: string (nullable = true)\n",
            " |-- Club Logo: string (nullable = true)\n",
            " |-- Flag Photo: string (nullable = true)\n",
            " |-- POT: string (nullable = true)\n",
            " |-- Team & Contract: string (nullable = true)\n",
            " |-- Height: string (nullable = true)\n",
            " |-- Weight: string (nullable = true)\n",
            " |-- foot: string (nullable = true)\n",
            " |-- Growth: string (nullable = true)\n",
            " |-- Joined: string (nullable = true)\n",
            " |-- Loan Date End: string (nullable = true)\n",
            " |-- Value: string (nullable = true)\n",
            " |-- Wage: string (nullable = true)\n",
            " |-- Release Clause: string (nullable = true)\n",
            " |-- Contract: string (nullable = true)\n",
            " |-- Attacking: string (nullable = true)\n",
            " |-- Crossing: string (nullable = true)\n",
            " |-- Finishing: string (nullable = true)\n",
            " |-- Heading Accuracy: string (nullable = true)\n",
            " |-- Short Passing: string (nullable = true)\n",
            " |-- Volleys: string (nullable = true)\n",
            " |-- Skill: string (nullable = true)\n",
            " |-- Dribbling: string (nullable = true)\n",
            " |-- Curve: string (nullable = true)\n",
            " |-- FK Accuracy: string (nullable = true)\n",
            " |-- Long Passing: string (nullable = true)\n",
            " |-- Ball Control: string (nullable = true)\n",
            " |-- Movement: string (nullable = true)\n",
            " |-- Acceleration: string (nullable = true)\n",
            " |-- Sprint Speed: string (nullable = true)\n",
            " |-- Agility: string (nullable = true)\n",
            " |-- Reactions: string (nullable = true)\n",
            " |-- Balance: string (nullable = true)\n",
            " |-- Power: string (nullable = true)\n",
            " |-- Shot Power: string (nullable = true)\n",
            " |-- Jumping: string (nullable = true)\n",
            " |-- Stamina: string (nullable = true)\n",
            " |-- Strength: string (nullable = true)\n",
            " |-- Long Shots: string (nullable = true)\n",
            " |-- Mentality: string (nullable = true)\n",
            " |-- Aggression: string (nullable = true)\n",
            " |-- Interceptions: string (nullable = true)\n",
            " |-- Positioning: string (nullable = true)\n",
            " |-- Vision: string (nullable = true)\n",
            " |-- Penalties: string (nullable = true)\n",
            " |-- Composure: string (nullable = true)\n",
            " |-- Defending: string (nullable = true)\n",
            " |-- Marking: string (nullable = true)\n",
            " |-- Standing Tackle: string (nullable = true)\n",
            " |-- Sliding Tackle: string (nullable = true)\n",
            " |-- Goalkeeping: string (nullable = true)\n",
            " |-- GK Diving: string (nullable = true)\n",
            " |-- GK Handling: string (nullable = true)\n",
            " |-- GK Kicking: string (nullable = true)\n",
            " |-- GK Positioning: string (nullable = true)\n",
            " |-- GK Reflexes: string (nullable = true)\n",
            " |-- Total Stats: string (nullable = true)\n",
            " |-- Base Stats: string (nullable = true)\n",
            " |-- W/F: string (nullable = true)\n",
            " |-- SM: string (nullable = true)\n",
            " |-- A/W: string (nullable = true)\n",
            " |-- D/W: string (nullable = true)\n",
            " |-- IR: string (nullable = true)\n",
            " |-- PAC: string (nullable = true)\n",
            " |-- SHO: string (nullable = true)\n",
            " |-- PAS: string (nullable = true)\n",
            " |-- DRI: string (nullable = true)\n",
            " |-- DEF: string (nullable = true)\n",
            " |-- PHY: string (nullable = true)\n",
            " |-- Hits: string (nullable = true)\n",
            " |-- LS: string (nullable = true)\n",
            " |-- ST: string (nullable = true)\n",
            " |-- RS: string (nullable = true)\n",
            " |-- LW: string (nullable = true)\n",
            " |-- LF: string (nullable = true)\n",
            " |-- CF: string (nullable = true)\n",
            " |-- RF: string (nullable = true)\n",
            " |-- RW: string (nullable = true)\n",
            " |-- LAM: string (nullable = true)\n",
            " |-- CAM: string (nullable = true)\n",
            " |-- RAM: string (nullable = true)\n",
            " |-- LM: string (nullable = true)\n",
            " |-- LCM: string (nullable = true)\n",
            " |-- CM: string (nullable = true)\n",
            " |-- RCM: string (nullable = true)\n",
            " |-- RM: string (nullable = true)\n",
            " |-- LWB: string (nullable = true)\n",
            " |-- LDM: string (nullable = true)\n",
            " |-- CDM: string (nullable = true)\n",
            " |-- RDM: string (nullable = true)\n",
            " |-- RWB: string (nullable = true)\n",
            " |-- LB: string (nullable = true)\n",
            " |-- LCB: string (nullable = true)\n",
            " |-- CB: string (nullable = true)\n",
            " |-- RCB: string (nullable = true)\n",
            " |-- RB: string (nullable = true)\n",
            " |-- GK: string (nullable = true)\n",
            " |-- Gender: string (nullable = true)\n",
            "\n"
          ],
          "name": "stdout"
        }
      ]
    },
    {
      "cell_type": "code",
      "metadata": {
        "colab": {
          "base_uri": "https://localhost:8080/"
        },
        "id": "eI3AVwzdEKmy",
        "outputId": "1e2bc79e-71c2-458a-b80a-cc036129e886"
      },
      "source": [
        "df_raw.show()"
      ],
      "execution_count": null,
      "outputs": [
        {
          "output_type": "stream",
          "text": [
            "+---+-------------+---+---+--------------------+------------------+---+---+------------+--------------------+--------------------+--------------------+---+--------------------+------+------+-----+------+------------+-------------+-----+----+--------------+------------+---------+--------+---------+----------------+-------------+-------+-----+---------+-----+-----------+------------+------------+--------+------------+------------+-------+---------+-------+-----+----------+-------+-------+--------+----------+---------+----------+-------------+-----------+------+---------+---------+---------+-------+---------------+--------------+-----------+---------+-----------+----------+--------------+-----------+-----------+----------+---+---+------+------+---+---+---+---+---+---+---+----+----+----+----+----+-----+-----+-----+----+-----+-----+-----+----+----+----+----+----+-----+-----+-----+-----+-----+-----+-----+-----+-----+-----+----+------+\n",
            "| ID|         Name|Age|OVA|         Nationality|              Club|BOV| BP|    Position|        Player Photo|           Club Logo|          Flag Photo|POT|     Team & Contract|Height|Weight| foot|Growth|      Joined|Loan Date End|Value|Wage|Release Clause|    Contract|Attacking|Crossing|Finishing|Heading Accuracy|Short Passing|Volleys|Skill|Dribbling|Curve|FK Accuracy|Long Passing|Ball Control|Movement|Acceleration|Sprint Speed|Agility|Reactions|Balance|Power|Shot Power|Jumping|Stamina|Strength|Long Shots|Mentality|Aggression|Interceptions|Positioning|Vision|Penalties|Composure|Defending|Marking|Standing Tackle|Sliding Tackle|Goalkeeping|GK Diving|GK Handling|GK Kicking|GK Positioning|GK Reflexes|Total Stats|Base Stats|W/F| SM|   A/W|   D/W| IR|PAC|SHO|PAS|DRI|DEF|PHY|Hits|  LS|  ST|  RS|  LW|   LF|   CF|   RF|  RW|  LAM|  CAM|  RAM|  LM| LCM|  CM| RCM|  RM|  LWB|  LDM|  CDM|  RDM|  RWB|   LB|  LCB|   CB|  RCB|   RB|  GK|Gender|\n",
            "+---+-------------+---+---+--------------------+------------------+---+---+------------+--------------------+--------------------+--------------------+---+--------------------+------+------+-----+------+------------+-------------+-----+----+--------------+------------+---------+--------+---------+----------------+-------------+-------+-----+---------+-----+-----------+------------+------------+--------+------------+------------+-------+---------+-------+-----+----------+-------+-------+--------+----------+---------+----------+-------------+-----------+------+---------+---------+---------+-------+---------------+--------------+-----------+---------+-----------+----------+--------------+-----------+-----------+----------+---+---+------+------+---+---+---+---+---+---+---+----+----+----+----+----+-----+-----+-----+----+-----+-----+-----+----+----+----+----+----+-----+-----+-----+-----+-----+-----+-----+-----+-----+-----+----+------+\n",
            "|  2|  G. Pasquale| 33| 69|               Italy|           Udinese| 71|LWB|          LM|https://cdn.sofif...|https://cdn.sofif...|https://cdn.sofif...| 69| Udinese 2008 ~ 2016| 6'0\"\"|181lbs| Left|     0| Jul 1, 2008|         null|€625K| €7K|            €0| 2008 ~ 2016|      313|      75|       50|              59|           71|   58.0|  338|       73| 65.0|         60|          69|          71|     347|          68|          74|   68.0|       69|   68.0|  347|        74|   68.0|     69|      68|        68|      320|        72|         69.0|       63.0|  66.0|       50|     null|      208|     70|             69|          69.0|         56|       14|          5|        15|            10|         12|       1929|       408|3 ★| 2★|Medium|  High|2 ★| 71| 59| 70| 71| 68| 69|   4|65+0|65+0|65+0|68+0| 67+0| 67+0| 67+0|68+0| 68+0| 68+0| 68+0|69+0|69+0|69+0|69+0|69+0|71+-2|70+-1|70+-1|70+-1|71+-2|70+-1| 69+0| 69+0| 69+0|70+-1|17+0|  Male|\n",
            "| 16|  Luis García| 37| 71|               Spain|         KAS Eupen| 70| CM|  CM CAM CDM|https://cdn.sofif...|https://cdn.sofif...|https://cdn.sofif...| 71|KAS Eupen 2014 ~ ...|5'10\"\"|143lbs|Right|     0|Jul 19, 2014|         null|€600K| €7K|         €1.1M| 2014 ~ 2019|      337|      68|       64|              61|           76|   68.0|  369|       69| 79.0|         79|          71|          71|     305|          56|          50|   62.0|       65|   72.0|  324|        75|   54.0|     64|      60|        71|      362|        71|         71.0|       72.0|  73.0|       75|     79.0|      153|     70|             43|          40.0|         56|        9|         12|        13|            11|         11|       1906|       385|4 ★| 3★|Medium|Medium|1 ★| 53| 69| 73| 69| 58| 63|   4|67+1|67+1|67+1|67+0| 68+0| 68+0| 68+0|67+0| 70+1| 70+1| 70+1|68+1|70+1|70+1|70+1|68+1| 62+1| 66+1| 66+1| 66+1| 62+1| 60+1| 60+1| 60+1| 60+1| 60+1|17+1|  Male|\n",
            "| 27|      J. Cole| 33| 71|             England|     Coventry City| 71|CAM|CAM RM RW LM|https://cdn.sofif...|https://cdn.sofif...|https://cdn.sofif...| 71|Coventry City 201...| 5'9\"\"|161lbs|Right|     0| Jan 7, 2016|         null|€1.1M|€15K|            €0| 2016 ~ 2020|      337|      80|       64|              41|           77|   75.0|  387|       79| 84.0|         77|          69|          78|     295|          48|          42|   71.0|       59|   75.0|  284|        72|   58.0|     29|      56|        69|      317|        69|         39.0|       69.0|  74.0|       66|     null|       99|     35|             34|          30.0|         51|        9|          6|        13|            16|          7|       1770|       354|4 ★| 4★|Medium|   Low|2 ★| 45| 68| 76| 77| 36| 52|  11|64+0|64+0|64+0|70+0| 69+0| 69+0| 69+0|70+0| 71+0| 71+0| 71+0|68+0|66+0|66+0|66+0|68+0| 52+0| 54+0| 54+0| 54+0| 52+0| 47+0| 46+0| 46+0| 46+0| 47+0|15+0|  Male|\n",
            "| 36|     D. Yorke| 36| 68|Trinidad &amp; To...|        Sunderland| 70| ST|        null|https://cdn.sofif...|https://cdn.sofif...|https://cdn.sofif...| 82|     Sunderland 2009|5'11\"\"|165lbs|Right|    14|        null|         null|   €0|  €0|            €0|        2009|      264|      54|       70|              60|           80|   null|  255|       68| null|         46|          64|          77|     176|          59|          62|   null|       55|   null|  239|        63|   null|     51|      66|        59|      271|        59|         70.0|       72.0|  null|       70|     null|       75|     34|             41|          null|         68|        5|         21|        64|            21|         21|       1348|       369|3 ★| 1★|  null|  null|1 ★| 61| 66| 66| 69| 47| 60|   3|67+0|67+0|67+0|66+0| 67+0| 67+0| 67+0|66+0| 70+0| 70+0| 70+0|66+0|68+0|68+0|68+0|66+0| 56+0| 65+0| 65+0| 65+0| 56+0| 57+0| 51+0| 51+0| 51+0| 57+0|22+0|  Male|\n",
            "| 41|      Iniesta| 36| 81|               Spain|       Vissel Kobe| 82|CAM|      CM CAM|https://cdn.sofif...|https://cdn.sofif...|https://cdn.sofif...| 81|Vissel Kobe 2018 ...| 5'7\"\"|150lbs|Right|     0|Jul 16, 2018|         null|€5.5M|€12K|         €7.2M| 2018 ~ 2021|      367|      75|       69|              54|           90|   79.0|  408|       85| 80.0|         70|          83|          90|     346|          61|          56|   79.0|       75|   75.0|  297|        67|   40.0|     58|      62|        70|      370|        58|         70.0|       78.0|  93.0|       71|     89.0|      181|     68|             57|          56.0|         45|        6|         13|         6|            13|          7|       2014|       420|4 ★| 4★|  High|Medium|4 ★| 58| 70| 85| 85| 63| 59| 149|72+3|72+3|72+3|79+0| 79+0| 79+0| 79+0|79+0|82+-1|82+-1|82+-1|79+2|81+0|81+0|81+0|79+2| 70+3| 73+3| 73+3| 73+3| 70+3| 67+3| 64+3| 64+3| 64+3| 67+3|17+3|  Male|\n",
            "| 61|   D. Odonkor| 27| 66|             Germany|  Alemannia Aachen| 66| RW|       RW RM|https://cdn.sofif...|https://cdn.sofif...|https://cdn.sofif...| 70|Alemannia Aachen ...| 5'8\"\"|163lbs|Right|     4| Jan 1, 2011|         null|€725K| €5K|            €0| 2011 ~ 2012|      271|      61|       53|              42|           58|   57.0|  276|       67| 61.0|         42|          44|          62|     406|          90|          91|   75.0|       65|   85.0|  315|        71|   70.0|     64|      61|        49|      256|        63|         26.0|       63.0|  58.0|       46|     null|       79|     22|             26|          31.0|         46|        8|         13|         7|             9|          9|       1649|       360|2 ★| 3★|Medium|Medium|2 ★| 91| 56| 56| 67| 27| 63|   7|62+0|62+0|62+0|66+0| 62+0| 62+0| 62+0|66+0| 62+0| 62+0| 62+0|64+0|54+0|54+0|54+0|64+0| 50+0| 47+0| 47+0| 47+0| 50+0| 46+0| 41+0| 41+0| 41+0| 46+0|13+0|  Male|\n",
            "| 80| E. Belözoğlu| 38| 77|              Turkey|     Fenerbahçe SK| 77| CM|      CM CDM|https://cdn.sofif...|https://cdn.sofif...|https://cdn.sofif...| 77|Fenerbahçe SK 201...| 5'7\"\"|159lbs| Left|     0| Jul 2, 2019|         null|€2.8M|€44K|         €5.3M| 2019 ~ 2020|      342|      80|       66|              43|           84|   69.0|  406|       77| 83.0|         80|          85|          81|     308|          54|          36|   67.0|       70|   81.0|  340|        77|   72.0|     51|      64|        76|      384|        87|         62.0|       65.0|  85.0|       85|     80.0|      190|     65|             65|          60.0|         47|        7|         11|         7|            14|          8|       2017|       403|4 ★| 4★|Medium|Medium|2 ★| 44| 71| 83| 77| 62| 66|   7|66+2|66+2|66+2|72+0| 72+0| 72+0| 72+0|72+0| 75+2| 75+2| 75+2|72+2|76+1|76+1|76+1|72+2| 66+2| 72+2| 72+2| 72+2| 66+2| 64+2| 65+2| 65+2| 65+2| 64+2|16+2|  Male|\n",
            "|241|     R. Giggs| 39| 78|               Wales| Manchester United| 78|CAM|   LM CM CAM|https://cdn.sofif...|https://cdn.sofif...|https://cdn.sofif...| 78|Manchester United...|5'10\"\"|157lbs| Left|     0| Dec 1, 1990|         null|  €1K|€60K|            €0| 1990 ~ 2014|      380|      90|       70|              60|           85|   75.0|  402|       77| 87.0|         78|          81|          79|     337|          59|          60|   72.0|       76|   70.0|  310|        71|   59.0|     48|      61|        71|      358|        60|         47.0|       78.0|  83.0|       90|     null|      120|     26|             43|          51.0|         32|       10|          5|         7|             5|          5|       1939|       392|2 ★| 3★|Medium|Medium|3 ★| 60| 72| 85| 77| 41| 57|   9|71+1|71+1|71+1|78+0| 74+1| 74+1| 74+1|78+0| 78+0| 78+0| 78+0|77+1|73+1|73+1|73+1|77+1| 62+1| 63+1| 63+1| 63+1| 62+1| 57+1| 53+1| 53+1| 53+1| 57+1|11+1|  Male|\n",
            "|244|G. Neville  B| 35| 76|             England| Manchester United| 78| CB|   RB CB RWB|https://cdn.sofif...|https://cdn.sofif...|https://cdn.sofif...| 82|Manchester United...|5'10\"\"|174lbs|Right|     6| Jan 1, 1991|         null|   €0|  €0|            €0| 1991 ~ 2011|      304|      72|       31|              75|           71|   55.0|  258|       44| 56.0|         33|          61|          64|     324|          64|          70|   51.0|       72|   67.0|  284|        47|   70.0|     65|      74|        28|      319|        87|         85.0|       45.0|  70.0|       32|     null|      242|     78|             81|          83.0|         43|       12|          9|         5|             6|         11|       1774|       378|3 ★| 2★|  null|  null|3 ★| 67| 36| 67| 53| 81| 74|   4|54+0|54+0|54+0|60+0| 56+0| 56+0| 56+0|60+0| 56+0| 56+0| 56+0|62+0|64+0|64+0|64+0|62+0| 73+0| 74+0| 74+0| 74+0| 73+0| 76+0| 78+0| 78+0| 78+0| 76+0|13+0|  Male|\n",
            "|246|   P. Scholes| 37| 80|             England| Manchester United| 82|CAM|      CM CDM|https://cdn.sofif...|https://cdn.sofif...|https://cdn.sofif...| 80|Manchester United...| 5'7\"\"|157lbs|Right|     0| Jul 8, 1993|         null|€400K|€40K|            €0| 1993 ~ 2013|      394|      83|       65|              72|           89|   85.0|  393|       75| 74.0|         67|          90|          87|     338|          53|          53|   68.0|       82|   82.0|  333|        88|   64.0|     34|      63|        84|      417|        87|         79.0|       83.0|  91.0|       77|     null|      143|     58|             49|          36.0|         47|        7|         12|         5|            15|          8|       2065|       415|3 ★| 3★|Medium|Medium|2 ★| 53| 76| 87| 79| 59| 61|   7|75+0|75+0|75+0|78+0| 79+0| 79+0| 79+0|78+0|82+-2|82+-2|82+-2|78+0|80+0|80+0|80+0|78+0| 67+0| 75+0| 75+0| 75+0| 67+0| 64+0| 64+0| 64+0| 64+0| 64+0|15+0|  Male|\n",
            "|249|   P. Neville| 35| 74|             England|           Everton| 75| CB|   CDM CM RB|https://cdn.sofif...|https://cdn.sofif...|https://cdn.sofif...| 74| Everton 2005 ~ 2013|5'11\"\"|168lbs|Right|     0| Aug 1, 2005|         null|€120K| €7K|            €0| 2005 ~ 2013|      315|      73|       36|              69|           74|   63.0|  283|       53| 45.0|         41|          72|          72|     321|          52|          51|   65.0|       83|   70.0|  349|        77|   71.0|     61|      76|        64|      335|        78|         83.0|       48.0|  57.0|       69|     null|      224|     77|             75|          72.0|         41|       10|          7|        12|             5|          7|       1868|       381|4 ★| 2★|Medium|  High|2 ★| 51| 53| 67| 62| 76| 72|   7|59+0|59+0|59+0|63+0| 61+0| 61+0| 61+0|63+0| 63+0| 63+0| 63+0|65+0|68+0|68+0|68+0|65+0| 72+0| 74+0| 74+0| 74+0| 72+0| 73+0|75+-1|75+-1|75+-1| 73+0|12+0|  Male|\n",
            "|250|   D. Beckham| 37| 78|             England|              null| 77| CM|       CM RM|https://cdn.sofif...|                null|https://cdn.sofif...| 78|        England Free| 6'0\"\"|165lbs|Right|     0| Jan 1, 2013|         null|   €0|  €0|            €0|England Free|      335|      82|       62|              41|           82|   68.0|  419|       66| 94.0|         89|          87|          83|     318|          54|          62|   58.0|       80|   64.0|  372|        79|   59.0|     81|      70|        83|      367|        81|         57.0|       72.0|  87.0|       70|     null|      150|     60|             46|          44.0|         51|       10|         12|         7|            15|          7|       2012|       411|3 ★| 2★|Medium|Medium|3 ★| 58| 71| 85| 71| 52| 74|  16|68+1|68+1|68+1|74+1| 73+1| 73+1| 73+1|74+1| 77+1| 77+1| 77+1|77+1|77+1|77+1|77+1|77+1| 67+1| 73+1| 73+1| 73+1| 67+1| 63+1| 59+1| 59+1| 59+1| 63+1|15+1|  Male|\n",
            "|330|     R. Keane| 35| 80| Republic of Ireland|         LA Galaxy| 81| CF|          ST|https://cdn.sofif...|https://cdn.sofif...|https://cdn.sofif...| 80|LA Galaxy 2011 ~ ...| 5'9\"\"|161lbs|Right|     0| Aug 1, 2011|         null|€5.5M|€10K|            €0| 2011 ~ 2022|      380|      68|       84|              63|           81|   84.0|  374|       82| 82.0|         63|          63|          84|     380|          69|          68|   77.0|       83|   83.0|  363|        81|   62.0|     72|      68|        80|      343|        67|         34.0|       85.0|  82.0|       75|     86.0|       71|     28|             26|          17.0|         63|       11|          9|        13|            14|         16|       1974|       407|4 ★| 3★|  High|   Low|2 ★| 68| 82| 75| 82| 31| 69|  10|79+1|79+1|79+1|79+0|81+-1|81+-1|81+-1|79+0|81+-1|81+-1|81+-1|78+1|74+1|74+1|74+1|78+1| 57+1| 57+1| 57+1| 57+1| 57+1| 52+1| 47+1| 47+1| 47+1| 52+1|20+1|  Male|\n",
            "|388|  S. Campbell| 35| 75|             England|  Newcastle United| 75| CB|        null|https://cdn.sofif...|https://cdn.sofif...|https://cdn.sofif...| 79|Newcastle United ...| 6'2\"\"|190lbs|Right|     4| Sep 2, 2010|         null|   €0|  €0|            €0| 2010 ~ 2011|      206|      20|       28|              81|           54|   23.0|  173|       40| 19.0|         15|          44|          55|     321|          61|          68|   44.0|       68|   80.0|  319|        57|   85.0|     64|      87|        26|      296|        84|         77.0|       41.0|  57.0|       37|     null|      222|     72|             77|          73.0|         44|       11|          7|        12|             5|          9|       1581|       347|3 ★| 2★|  null|  null|3 ★| 65| 34| 43| 48| 76| 81|   3|51+0|51+0|51+0|48+0| 48+0| 48+0| 48+0|48+0| 49+0| 49+0| 49+0|48+0|56+0|56+0|56+0|48+0| 63+0| 68+0| 68+0| 68+0| 63+0| 70+0| 75+0| 75+0| 75+0| 70+0|12+0|  Male|\n",
            "|488|      O. Kahn| 38| 87|             Germany| FC Bayern München| 87| GK|          GK|https://cdn.sofif...|https://cdn.sofif...|https://cdn.sofif...| 90|FC Bayern München...| 6'2\"\"|198lbs|Right|     3|        null|         null|   €0|  €0|            €0|        2008|       84|      21|       21|              21|           21|   null|  113|       21| null|          7|          62|          23|     204|          57|          62|   null|       85|   null|  179|        22|   null|     51|      85|        21|      228|        94|         91.0|       22.0|  null|       21|     null|       42|     21|             21|          null|        346|       83|         88|        62|            92|         83|       1196|       468|1 ★| 1★|  null|  null|4 ★| 83| 88| 62| 83| 60| 92|   4|29+0|29+0|29+0|29+0| 29+0| 29+0| 29+0|29+0| 33+0| 33+0| 33+0|29+0|36+0|36+0|36+0|29+0| 29+0| 31+0| 31+0| 31+0| 29+0| 31+0| 31+0| 31+0| 31+0| 31+0|87+0|  Male|\n",
            "|496|    D. Hamann| 36| 61|             Germany|Milton Keynes Dons| 67| CB|        null|https://cdn.sofif...|https://cdn.sofif...|https://cdn.sofif...| 82|Milton Keynes Don...| 6'2\"\"|168lbs|Right|    21| Sep 2, 2010|         null|   €0|  €0|            €0| 2010 ~ 2011|      270|      51|       35|              62|           76|   46.0|  288|       37| 47.0|         76|          64|          64|     212|          40|          44|   28.0|       30|   70.0|  330|        71|   83.0|     28|      82|        66|      344|        74|         75.0|       51.0|  78.0|       66|     null|      198|     70|             72|          56.0|         56|       11|         12|        10|             8|         15|       1698|       343|3 ★| 2★|  null|  null|3 ★| 42| 51| 68| 46| 69| 67|   3|51+0|51+0|51+0|50+0| 51+0| 51+0| 51+0|50+0| 59+0| 59+0| 59+0|53+0|61+0|61+0|61+0|53+0| 58+0| 65+0| 65+0| 65+0| 58+0| 62+0| 67+0| 67+0| 67+0| 62+0|14+0|  Male|\n",
            "|570|    A. Okocha| 33| 73|             Nigeria|         Hull City| 76| CF|        null|https://cdn.sofif...|https://cdn.sofif...|https://cdn.sofif...| 90|      Hull City 2009| 5'8\"\"|154lbs|Right|    17|        null|         null|   €0|  €0|            €0|        2009|      247|      72|       60|              40|           75|   null|  334|       90| null|         83|          70|          91|     192|          68|          64|   null|       60|   null|  252|        74|   null|     41|      57|        80|      249|        36|         69.0|       60.0|  null|       84|     null|       57|     23|             34|          null|         74|       11|         21|        70|            21|         21|       1405|       381|3 ★| 1★|  null|  null|2 ★| 66| 69| 74| 86| 38| 48|   3|71+0|71+0|71+0|76+0| 71+0| 71+0| 71+0|76+0| 73+0| 73+0| 73+0|76+0|71+0|71+0|71+0|76+0| 55+0| 63+0| 63+0| 63+0| 55+0| 51+0| 42+0| 42+0| 42+0| 51+0|23+0|  Male|\n",
            "|670|         Zulu| 26| 66|              Brazil|   Pohang Steelers| 66| ST|        null|https://cdn.sofif...|https://cdn.sofif...|https://cdn.sofif...| 72|Pohang Steelers 2...| 6'4\"\"|198lbs|Right|     6| Jan 1, 2005|         null|   €0|  €0|            €0| 2005 ~ 2013|      305|      43|       66|              73|           62|   61.0|  269|       61| 55.0|         47|          47|          59|     361|          72|          76|   68.0|       67|   78.0|  351|        56|   79.0|     71|      80|        65|      261|        70|         32.0|       45.0|  62.0|       52|     null|      101|     38|             31|          32.0|         56|       10|         15|         6|            14|         11|       1704|       367|3 ★| 2★|  null|  null|1 ★| 74| 62| 55| 62| 38| 76|   3|66+0|66+0|66+0|62+0| 64+0| 64+0| 64+0|62+0| 61+0| 61+0| 61+0|60+0|59+0|59+0|59+0|60+0| 51+0| 54+0| 54+0| 54+0| 51+0| 51+0| 54+0| 54+0| 54+0| 51+0|16+0|  Male|\n",
            "|684| M. Schwarzer| 42| 73|           Australia|    Leicester City| 73| GK|        null|https://cdn.sofif...|https://cdn.sofif...|https://cdn.sofif...| 73|Leicester City 20...| 6'4\"\"|209lbs|Right|     0| Jan 6, 2015|         null|€500K|€15K|            €0| 2015 ~ 2016|       79|      13|       11|              14|           24|   17.0|   78|       13| 14.0|         11|          23|          17|     204|          23|          26|   36.0|       76|   43.0|  191|        29|   55.0|     19|      70|        18|      146|        40|         22.0|       19.0|  31.0|       34|     null|       56|     17|             19|          20.0|        357|       70|         73|        67|            78|         69|       1111|       382|3 ★| 1★|Medium|Medium|2 ★| 70| 73| 67| 69| 25| 78|   3|25+0|25+0|25+0|23+0| 24+0| 24+0| 24+0|23+0| 25+0| 25+0| 25+0|23+0|26+0|26+0|26+0|23+0| 24+0| 28+0| 28+0| 28+0| 24+0| 24+0| 30+0| 30+0| 30+0| 24+0|73+0|  Male|\n",
            "|805|   J. Lehmann| 39| 79|             Germany|     VfB Stuttgart| 81| GK|        null|https://cdn.sofif...|https://cdn.sofif...|https://cdn.sofif...| 87|  VfB Stuttgart 2010| 6'3\"\"|192lbs|Right|     8|        null|         null|   €0|  €0|            €0|        2010|       90|      21|       21|              21|           27|   null|  128|       21| null|         10|          75|          22|     171|          49|          54|   null|       68|   null|  179|        29|   null|     55|      74|        21|      291|        78|         81.0|       58.0|  null|       74|     null|       42|     21|             21|          null|        323|       77|         82|        75|            88|         76|       1224|       450|3 ★| 1★|  null|  null|4 ★| 77| 82| 75| 76| 52| 88|   3|31+0|31+0|31+0|29+0| 31+0| 31+0| 31+0|29+0| 35+0| 35+0| 35+0|29+0|38+0|38+0|38+0|29+0| 29+0| 32+0| 32+0| 32+0| 29+0| 31+0| 30+0| 30+0| 30+0| 31+0|81+0|  Male|\n",
            "+---+-------------+---+---+--------------------+------------------+---+---+------------+--------------------+--------------------+--------------------+---+--------------------+------+------+-----+------+------------+-------------+-----+----+--------------+------------+---------+--------+---------+----------------+-------------+-------+-----+---------+-----+-----------+------------+------------+--------+------------+------------+-------+---------+-------+-----+----------+-------+-------+--------+----------+---------+----------+-------------+-----------+------+---------+---------+---------+-------+---------------+--------------+-----------+---------+-----------+----------+--------------+-----------+-----------+----------+---+---+------+------+---+---+---+---+---+---+---+----+----+----+----+----+-----+-----+-----+----+-----+-----+-----+----+----+----+----+----+-----+-----+-----+-----+-----+-----+-----+-----+-----+-----+----+------+\n",
            "only showing top 20 rows\n",
            "\n"
          ],
          "name": "stdout"
        }
      ]
    },
    {
      "cell_type": "code",
      "metadata": {
        "colab": {
          "base_uri": "https://localhost:8080/"
        },
        "id": "nqRXldxI8__z",
        "outputId": "5a81b60f-0466-4169-b716-98bd33b5f6d5"
      },
      "source": [
        "# Number of records\r\n",
        "df_raw.count()"
      ],
      "execution_count": null,
      "outputs": [
        {
          "output_type": "execute_result",
          "data": {
            "text/plain": [
              "17125"
            ]
          },
          "metadata": {
            "tags": []
          },
          "execution_count": 9
        }
      ]
    },
    {
      "cell_type": "code",
      "metadata": {
        "id": "rxI5sLnl9AJJ"
      },
      "source": [
        "# Temporary View\r\n",
        "df_raw.registerTempTable(\"fifa21\")"
      ],
      "execution_count": null,
      "outputs": []
    },
    {
      "cell_type": "code",
      "metadata": {
        "colab": {
          "base_uri": "https://localhost:8080/"
        },
        "id": "JT-1yAGoDag_",
        "outputId": "3db2cc20-fbc6-4dc0-e383-d31d54eb9644"
      },
      "source": [
        "df_raw.groupBy('Nationality').count().show()"
      ],
      "execution_count": null,
      "outputs": [
        {
          "output_type": "stream",
          "text": [
            "+--------------+-----+\n",
            "|   Nationality|count|\n",
            "+--------------+-----+\n",
            "|          Chad|    2|\n",
            "|      Paraguay|  180|\n",
            "|        Russia|  114|\n",
            "|Chinese Taipei|    3|\n",
            "|       Senegal|  141|\n",
            "|        Sweden|  260|\n",
            "|        Guyana|    9|\n",
            "|   Philippines|    3|\n",
            "|       Eritrea|    1|\n",
            "|      Malaysia|    2|\n",
            "|     Singapore|    1|\n",
            "|        Turkey|  226|\n",
            "|        Malawi|    1|\n",
            "|          Iraq|    4|\n",
            "|       Germany| 1154|\n",
            "|       Comoros|   10|\n",
            "|   Afghanistan|    3|\n",
            "|   Ivory Coast|  119|\n",
            "|        Jordan|    2|\n",
            "|        Rwanda|    1|\n",
            "+--------------+-----+\n",
            "only showing top 20 rows\n",
            "\n"
          ],
          "name": "stdout"
        }
      ]
    },
    {
      "cell_type": "markdown",
      "metadata": {
        "id": "9CyQDeR9Dt60"
      },
      "source": [
        "*  We need write one folder for each Nationality, each folder should contains\r\n",
        "the players with that Nationality"
      ]
    },
    {
      "cell_type": "code",
      "metadata": {
        "id": "W7rRCLS583Aa"
      },
      "source": [
        "nationality=spark.sql('SELECT distinct Nationality FROM fifa21').toPandas()"
      ],
      "execution_count": null,
      "outputs": []
    },
    {
      "cell_type": "code",
      "metadata": {
        "id": "ZSNtpiZDCwQu"
      },
      "source": [
        "nations=nationality.values.ravel().tolist()"
      ],
      "execution_count": null,
      "outputs": []
    },
    {
      "cell_type": "code",
      "metadata": {
        "id": "_07VhcrD-ySB"
      },
      "source": [
        "# Create data frames in a dictionary with Players with that Nationality\r\n",
        "data_frames={}\r\n",
        "\r\n",
        "for i in nations:\r\n",
        "  data_frames[i] = df_raw.filter(\"Nationality == '\"+ i + \"'\")\r\n",
        "  data_frames[i].coalesce(1).write \\\r\n",
        "                      .format('orc') \\\r\n",
        "                      .mode('overwrite') \\\r\n",
        "                      .save('df_'+i+'_out_orc')\r\n",
        "\r\n",
        "\r\n",
        "# If you want to save each data frame you can use   data_frames.toPandas().to_csv(\"name\")"
      ],
      "execution_count": null,
      "outputs": []
    },
    {
      "cell_type": "markdown",
      "metadata": {
        "id": "A0d2qXNGDzkL"
      },
      "source": [
        "* We need to know who are the 10 top players for each position, you should\r\n",
        "write this data too in another output folder"
      ]
    },
    {
      "cell_type": "code",
      "metadata": {
        "id": "A-vykBHRDjxi"
      },
      "source": [
        "position = spark.sql('SELECT distinct Position FROM fifa21').toPandas()\r\n",
        "position = position.values.ravel().tolist()\r\n",
        "position = [i for i in position if i]  # Remove None\r\n",
        "\r\n",
        "data_frames_position={}\r\n",
        "for i in position:\r\n",
        "  data_frames_position[i] = df_raw.filter(\"Position == '\"+ i + \"'\").orderBy('OVA', ascending=False).toPandas()\r\n",
        "\r\n",
        "# Foer each data frame you can take de first ten rows in each dataframe and you can save to csv as to_csv(\"name\")\r\n",
        "# Save as orc file\r\n",
        "for i in position:\r\n",
        "  data_frames_position[i] = df_raw.filter(\"Position == '\"+ i + \"'\").orderBy('OVA', ascending=False)\r\n",
        "  data_frames_position[i].coalesce(1).write \\\r\n",
        "                      .format('orc') \\\r\n",
        "                      .mode('overwrite') \\\r\n",
        "                      .save('df_'+i+'out_orc')"
      ],
      "execution_count": null,
      "outputs": []
    },
    {
      "cell_type": "markdown",
      "metadata": {
        "id": "1DGoO8T8LSgl"
      },
      "source": [
        "* We need how many players for each position each Club."
      ]
    },
    {
      "cell_type": "code",
      "metadata": {
        "colab": {
          "base_uri": "https://localhost:8080/"
        },
        "id": "ZuIgmXLBL0_2",
        "outputId": "9359d475-edbb-4584-b915-0c0c1d51ba89"
      },
      "source": [
        "df_raw.groupBy('Club','Position').count().show()"
      ],
      "execution_count": null,
      "outputs": [
        {
          "output_type": "stream",
          "text": [
            "+--------------------+------------+-----+\n",
            "|                Club|    Position|count|\n",
            "+--------------------+------------+-----+\n",
            "|             FC Sion|      CDM CM|    1|\n",
            "|          Al Ittihad|      CDM CM|    1|\n",
            "|    Lokomotiv Moscow|          LM|    2|\n",
            "|        Club América|   CAM ST CF|    1|\n",
            "|         Aston Villa|          LB|    1|\n",
            "|           Hibernian|          LB|    2|\n",
            "|           FC Lugano|   ST LW CAM|    1|\n",
            "|      BSC Young Boys|      CB CDM|    1|\n",
            "|             Chelsea|          ST|    3|\n",
            "|        Hamburger SV|          ST|    5|\n",
            "|West Bromwich Albion|       ST RW|    1|\n",
            "|           Blackpool|          ST|    3|\n",
            "|           FC Juárez|   CAM RM CF|    1|\n",
            "|                Roma|       RB LB|    1|\n",
            "|          Ettifaq FC|      CAM LM|    1|\n",
            "|        Boca Juniors|       RM RW|    1|\n",
            "|           Sydney FC|CAM RM CM ST|    1|\n",
            "|           AS Monaco|          ST|    3|\n",
            "|          AZ Alkmaar|          GK|    5|\n",
            "|      Club Brugge KV|      CAM CM|    1|\n",
            "+--------------------+------------+-----+\n",
            "only showing top 20 rows\n",
            "\n"
          ],
          "name": "stdout"
        }
      ]
    },
    {
      "cell_type": "markdown",
      "metadata": {
        "id": "c8c4xpAwN5vt"
      },
      "source": [
        "* We need to know the top 10 clubs for sprint speed average."
      ]
    },
    {
      "cell_type": "code",
      "metadata": {
        "colab": {
          "base_uri": "https://localhost:8080/"
        },
        "id": "WQAz5LRXN6Pa",
        "outputId": "3aefbf81-2a2c-49d9-c7f0-48d43f8d54ff"
      },
      "source": [
        "sprint = df_raw.groupBy('Club','Sprint Speed').mean().orderBy('Sprint Speed', ascending=False)\r\n",
        "sprint.show()"
      ],
      "execution_count": 113,
      "outputs": [
        {
          "output_type": "stream",
          "text": [
            "+--------------------+------------+\n",
            "|                Club|Sprint Speed|\n",
            "+--------------------+------------+\n",
            "| Paris Saint-Germain|          96|\n",
            "|Wolverhampton Wan...|          96|\n",
            "|           Dijon FCO|          96|\n",
            "|   FC Bayern München|          96|\n",
            "|               Inter|          95|\n",
            "|   Manchester United|          95|\n",
            "|      Club Brugge KV|          95|\n",
            "|    Ulsan Hyundai FC|          95|\n",
            "|         Real Madrid|          95|\n",
            "| Bayer 04 Leverkusen|          95|\n",
            "|   FC Bayern München|          95|\n",
            "|     Rosario Central|          94|\n",
            "|             Watford|          94|\n",
            "|           Junior FC|          94|\n",
            "|            Portugal|          94|\n",
            "|            Cracovia|          94|\n",
            "|      BB Erzurumspor|          94|\n",
            "|Athletic Club de ...|          94|\n",
            "|     Adelaide United|          94|\n",
            "|   Vitória Guimarães|          94|\n",
            "+--------------------+------------+\n",
            "only showing top 20 rows\n",
            "\n"
          ],
          "name": "stdout"
        }
      ]
    },
    {
      "cell_type": "code",
      "metadata": {
        "id": "ZfUvovzQUpRZ"
      },
      "source": [
        "#Save as orc file\r\n",
        "sprint.coalesce(1).write \\\r\n",
        "                    .format('orc') \\\r\n",
        "                    .mode('overwrite') \\\r\n",
        "                    .save('dsprint_out_orc')"
      ],
      "execution_count": 114,
      "outputs": []
    },
    {
      "cell_type": "code",
      "metadata": {
        "colab": {
          "base_uri": "https://localhost:8080/"
        },
        "id": "E87WNVYNQDGa",
        "outputId": "e642bb5c-6e97-4e92-902d-4eee3163a5a7"
      },
      "source": [
        "df_raw.show()"
      ],
      "execution_count": null,
      "outputs": [
        {
          "output_type": "stream",
          "text": [
            "+---+-------------+---+---+--------------------+------------------+---+---+------------+--------------------+--------------------+--------------------+---+--------------------+------+------+-----+------+------------+-------------+-----+----+--------------+------------+---------+--------+---------+----------------+-------------+-------+-----+---------+-----+-----------+------------+------------+--------+------------+------------+-------+---------+-------+-----+----------+-------+-------+--------+----------+---------+----------+-------------+-----------+------+---------+---------+---------+-------+---------------+--------------+-----------+---------+-----------+----------+--------------+-----------+-----------+----------+---+---+------+------+---+---+---+---+---+---+---+----+----+----+----+----+-----+-----+-----+----+-----+-----+-----+----+----+----+----+----+-----+-----+-----+-----+-----+-----+-----+-----+-----+-----+----+------+\n",
            "| ID|         Name|Age|OVA|         Nationality|              Club|BOV| BP|    Position|        Player Photo|           Club Logo|          Flag Photo|POT|     Team & Contract|Height|Weight| foot|Growth|      Joined|Loan Date End|Value|Wage|Release Clause|    Contract|Attacking|Crossing|Finishing|Heading Accuracy|Short Passing|Volleys|Skill|Dribbling|Curve|FK Accuracy|Long Passing|Ball Control|Movement|Acceleration|Sprint Speed|Agility|Reactions|Balance|Power|Shot Power|Jumping|Stamina|Strength|Long Shots|Mentality|Aggression|Interceptions|Positioning|Vision|Penalties|Composure|Defending|Marking|Standing Tackle|Sliding Tackle|Goalkeeping|GK Diving|GK Handling|GK Kicking|GK Positioning|GK Reflexes|Total Stats|Base Stats|W/F| SM|   A/W|   D/W| IR|PAC|SHO|PAS|DRI|DEF|PHY|Hits|  LS|  ST|  RS|  LW|   LF|   CF|   RF|  RW|  LAM|  CAM|  RAM|  LM| LCM|  CM| RCM|  RM|  LWB|  LDM|  CDM|  RDM|  RWB|   LB|  LCB|   CB|  RCB|   RB|  GK|Gender|\n",
            "+---+-------------+---+---+--------------------+------------------+---+---+------------+--------------------+--------------------+--------------------+---+--------------------+------+------+-----+------+------------+-------------+-----+----+--------------+------------+---------+--------+---------+----------------+-------------+-------+-----+---------+-----+-----------+------------+------------+--------+------------+------------+-------+---------+-------+-----+----------+-------+-------+--------+----------+---------+----------+-------------+-----------+------+---------+---------+---------+-------+---------------+--------------+-----------+---------+-----------+----------+--------------+-----------+-----------+----------+---+---+------+------+---+---+---+---+---+---+---+----+----+----+----+----+-----+-----+-----+----+-----+-----+-----+----+----+----+----+----+-----+-----+-----+-----+-----+-----+-----+-----+-----+-----+----+------+\n",
            "|  2|  G. Pasquale| 33| 69|               Italy|           Udinese| 71|LWB|          LM|https://cdn.sofif...|https://cdn.sofif...|https://cdn.sofif...| 69| Udinese 2008 ~ 2016| 6'0\"\"|181lbs| Left|     0| Jul 1, 2008|         null|€625K| €7K|            €0| 2008 ~ 2016|      313|      75|       50|              59|           71|   58.0|  338|       73| 65.0|         60|          69|          71|     347|          68|          74|   68.0|       69|   68.0|  347|        74|   68.0|     69|      68|        68|      320|        72|         69.0|       63.0|  66.0|       50|     null|      208|     70|             69|          69.0|         56|       14|          5|        15|            10|         12|       1929|       408|3 ★| 2★|Medium|  High|2 ★| 71| 59| 70| 71| 68| 69|   4|65+0|65+0|65+0|68+0| 67+0| 67+0| 67+0|68+0| 68+0| 68+0| 68+0|69+0|69+0|69+0|69+0|69+0|71+-2|70+-1|70+-1|70+-1|71+-2|70+-1| 69+0| 69+0| 69+0|70+-1|17+0|  Male|\n",
            "| 16|  Luis García| 37| 71|               Spain|         KAS Eupen| 70| CM|  CM CAM CDM|https://cdn.sofif...|https://cdn.sofif...|https://cdn.sofif...| 71|KAS Eupen 2014 ~ ...|5'10\"\"|143lbs|Right|     0|Jul 19, 2014|         null|€600K| €7K|         €1.1M| 2014 ~ 2019|      337|      68|       64|              61|           76|   68.0|  369|       69| 79.0|         79|          71|          71|     305|          56|          50|   62.0|       65|   72.0|  324|        75|   54.0|     64|      60|        71|      362|        71|         71.0|       72.0|  73.0|       75|     79.0|      153|     70|             43|          40.0|         56|        9|         12|        13|            11|         11|       1906|       385|4 ★| 3★|Medium|Medium|1 ★| 53| 69| 73| 69| 58| 63|   4|67+1|67+1|67+1|67+0| 68+0| 68+0| 68+0|67+0| 70+1| 70+1| 70+1|68+1|70+1|70+1|70+1|68+1| 62+1| 66+1| 66+1| 66+1| 62+1| 60+1| 60+1| 60+1| 60+1| 60+1|17+1|  Male|\n",
            "| 27|      J. Cole| 33| 71|             England|     Coventry City| 71|CAM|CAM RM RW LM|https://cdn.sofif...|https://cdn.sofif...|https://cdn.sofif...| 71|Coventry City 201...| 5'9\"\"|161lbs|Right|     0| Jan 7, 2016|         null|€1.1M|€15K|            €0| 2016 ~ 2020|      337|      80|       64|              41|           77|   75.0|  387|       79| 84.0|         77|          69|          78|     295|          48|          42|   71.0|       59|   75.0|  284|        72|   58.0|     29|      56|        69|      317|        69|         39.0|       69.0|  74.0|       66|     null|       99|     35|             34|          30.0|         51|        9|          6|        13|            16|          7|       1770|       354|4 ★| 4★|Medium|   Low|2 ★| 45| 68| 76| 77| 36| 52|  11|64+0|64+0|64+0|70+0| 69+0| 69+0| 69+0|70+0| 71+0| 71+0| 71+0|68+0|66+0|66+0|66+0|68+0| 52+0| 54+0| 54+0| 54+0| 52+0| 47+0| 46+0| 46+0| 46+0| 47+0|15+0|  Male|\n",
            "| 36|     D. Yorke| 36| 68|Trinidad &amp; To...|        Sunderland| 70| ST|        null|https://cdn.sofif...|https://cdn.sofif...|https://cdn.sofif...| 82|     Sunderland 2009|5'11\"\"|165lbs|Right|    14|        null|         null|   €0|  €0|            €0|        2009|      264|      54|       70|              60|           80|   null|  255|       68| null|         46|          64|          77|     176|          59|          62|   null|       55|   null|  239|        63|   null|     51|      66|        59|      271|        59|         70.0|       72.0|  null|       70|     null|       75|     34|             41|          null|         68|        5|         21|        64|            21|         21|       1348|       369|3 ★| 1★|  null|  null|1 ★| 61| 66| 66| 69| 47| 60|   3|67+0|67+0|67+0|66+0| 67+0| 67+0| 67+0|66+0| 70+0| 70+0| 70+0|66+0|68+0|68+0|68+0|66+0| 56+0| 65+0| 65+0| 65+0| 56+0| 57+0| 51+0| 51+0| 51+0| 57+0|22+0|  Male|\n",
            "| 41|      Iniesta| 36| 81|               Spain|       Vissel Kobe| 82|CAM|      CM CAM|https://cdn.sofif...|https://cdn.sofif...|https://cdn.sofif...| 81|Vissel Kobe 2018 ...| 5'7\"\"|150lbs|Right|     0|Jul 16, 2018|         null|€5.5M|€12K|         €7.2M| 2018 ~ 2021|      367|      75|       69|              54|           90|   79.0|  408|       85| 80.0|         70|          83|          90|     346|          61|          56|   79.0|       75|   75.0|  297|        67|   40.0|     58|      62|        70|      370|        58|         70.0|       78.0|  93.0|       71|     89.0|      181|     68|             57|          56.0|         45|        6|         13|         6|            13|          7|       2014|       420|4 ★| 4★|  High|Medium|4 ★| 58| 70| 85| 85| 63| 59| 149|72+3|72+3|72+3|79+0| 79+0| 79+0| 79+0|79+0|82+-1|82+-1|82+-1|79+2|81+0|81+0|81+0|79+2| 70+3| 73+3| 73+3| 73+3| 70+3| 67+3| 64+3| 64+3| 64+3| 67+3|17+3|  Male|\n",
            "| 61|   D. Odonkor| 27| 66|             Germany|  Alemannia Aachen| 66| RW|       RW RM|https://cdn.sofif...|https://cdn.sofif...|https://cdn.sofif...| 70|Alemannia Aachen ...| 5'8\"\"|163lbs|Right|     4| Jan 1, 2011|         null|€725K| €5K|            €0| 2011 ~ 2012|      271|      61|       53|              42|           58|   57.0|  276|       67| 61.0|         42|          44|          62|     406|          90|          91|   75.0|       65|   85.0|  315|        71|   70.0|     64|      61|        49|      256|        63|         26.0|       63.0|  58.0|       46|     null|       79|     22|             26|          31.0|         46|        8|         13|         7|             9|          9|       1649|       360|2 ★| 3★|Medium|Medium|2 ★| 91| 56| 56| 67| 27| 63|   7|62+0|62+0|62+0|66+0| 62+0| 62+0| 62+0|66+0| 62+0| 62+0| 62+0|64+0|54+0|54+0|54+0|64+0| 50+0| 47+0| 47+0| 47+0| 50+0| 46+0| 41+0| 41+0| 41+0| 46+0|13+0|  Male|\n",
            "| 80| E. Belözoğlu| 38| 77|              Turkey|     Fenerbahçe SK| 77| CM|      CM CDM|https://cdn.sofif...|https://cdn.sofif...|https://cdn.sofif...| 77|Fenerbahçe SK 201...| 5'7\"\"|159lbs| Left|     0| Jul 2, 2019|         null|€2.8M|€44K|         €5.3M| 2019 ~ 2020|      342|      80|       66|              43|           84|   69.0|  406|       77| 83.0|         80|          85|          81|     308|          54|          36|   67.0|       70|   81.0|  340|        77|   72.0|     51|      64|        76|      384|        87|         62.0|       65.0|  85.0|       85|     80.0|      190|     65|             65|          60.0|         47|        7|         11|         7|            14|          8|       2017|       403|4 ★| 4★|Medium|Medium|2 ★| 44| 71| 83| 77| 62| 66|   7|66+2|66+2|66+2|72+0| 72+0| 72+0| 72+0|72+0| 75+2| 75+2| 75+2|72+2|76+1|76+1|76+1|72+2| 66+2| 72+2| 72+2| 72+2| 66+2| 64+2| 65+2| 65+2| 65+2| 64+2|16+2|  Male|\n",
            "|241|     R. Giggs| 39| 78|               Wales| Manchester United| 78|CAM|   LM CM CAM|https://cdn.sofif...|https://cdn.sofif...|https://cdn.sofif...| 78|Manchester United...|5'10\"\"|157lbs| Left|     0| Dec 1, 1990|         null|  €1K|€60K|            €0| 1990 ~ 2014|      380|      90|       70|              60|           85|   75.0|  402|       77| 87.0|         78|          81|          79|     337|          59|          60|   72.0|       76|   70.0|  310|        71|   59.0|     48|      61|        71|      358|        60|         47.0|       78.0|  83.0|       90|     null|      120|     26|             43|          51.0|         32|       10|          5|         7|             5|          5|       1939|       392|2 ★| 3★|Medium|Medium|3 ★| 60| 72| 85| 77| 41| 57|   9|71+1|71+1|71+1|78+0| 74+1| 74+1| 74+1|78+0| 78+0| 78+0| 78+0|77+1|73+1|73+1|73+1|77+1| 62+1| 63+1| 63+1| 63+1| 62+1| 57+1| 53+1| 53+1| 53+1| 57+1|11+1|  Male|\n",
            "|244|G. Neville  B| 35| 76|             England| Manchester United| 78| CB|   RB CB RWB|https://cdn.sofif...|https://cdn.sofif...|https://cdn.sofif...| 82|Manchester United...|5'10\"\"|174lbs|Right|     6| Jan 1, 1991|         null|   €0|  €0|            €0| 1991 ~ 2011|      304|      72|       31|              75|           71|   55.0|  258|       44| 56.0|         33|          61|          64|     324|          64|          70|   51.0|       72|   67.0|  284|        47|   70.0|     65|      74|        28|      319|        87|         85.0|       45.0|  70.0|       32|     null|      242|     78|             81|          83.0|         43|       12|          9|         5|             6|         11|       1774|       378|3 ★| 2★|  null|  null|3 ★| 67| 36| 67| 53| 81| 74|   4|54+0|54+0|54+0|60+0| 56+0| 56+0| 56+0|60+0| 56+0| 56+0| 56+0|62+0|64+0|64+0|64+0|62+0| 73+0| 74+0| 74+0| 74+0| 73+0| 76+0| 78+0| 78+0| 78+0| 76+0|13+0|  Male|\n",
            "|246|   P. Scholes| 37| 80|             England| Manchester United| 82|CAM|      CM CDM|https://cdn.sofif...|https://cdn.sofif...|https://cdn.sofif...| 80|Manchester United...| 5'7\"\"|157lbs|Right|     0| Jul 8, 1993|         null|€400K|€40K|            €0| 1993 ~ 2013|      394|      83|       65|              72|           89|   85.0|  393|       75| 74.0|         67|          90|          87|     338|          53|          53|   68.0|       82|   82.0|  333|        88|   64.0|     34|      63|        84|      417|        87|         79.0|       83.0|  91.0|       77|     null|      143|     58|             49|          36.0|         47|        7|         12|         5|            15|          8|       2065|       415|3 ★| 3★|Medium|Medium|2 ★| 53| 76| 87| 79| 59| 61|   7|75+0|75+0|75+0|78+0| 79+0| 79+0| 79+0|78+0|82+-2|82+-2|82+-2|78+0|80+0|80+0|80+0|78+0| 67+0| 75+0| 75+0| 75+0| 67+0| 64+0| 64+0| 64+0| 64+0| 64+0|15+0|  Male|\n",
            "|249|   P. Neville| 35| 74|             England|           Everton| 75| CB|   CDM CM RB|https://cdn.sofif...|https://cdn.sofif...|https://cdn.sofif...| 74| Everton 2005 ~ 2013|5'11\"\"|168lbs|Right|     0| Aug 1, 2005|         null|€120K| €7K|            €0| 2005 ~ 2013|      315|      73|       36|              69|           74|   63.0|  283|       53| 45.0|         41|          72|          72|     321|          52|          51|   65.0|       83|   70.0|  349|        77|   71.0|     61|      76|        64|      335|        78|         83.0|       48.0|  57.0|       69|     null|      224|     77|             75|          72.0|         41|       10|          7|        12|             5|          7|       1868|       381|4 ★| 2★|Medium|  High|2 ★| 51| 53| 67| 62| 76| 72|   7|59+0|59+0|59+0|63+0| 61+0| 61+0| 61+0|63+0| 63+0| 63+0| 63+0|65+0|68+0|68+0|68+0|65+0| 72+0| 74+0| 74+0| 74+0| 72+0| 73+0|75+-1|75+-1|75+-1| 73+0|12+0|  Male|\n",
            "|250|   D. Beckham| 37| 78|             England|              null| 77| CM|       CM RM|https://cdn.sofif...|                null|https://cdn.sofif...| 78|        England Free| 6'0\"\"|165lbs|Right|     0| Jan 1, 2013|         null|   €0|  €0|            €0|England Free|      335|      82|       62|              41|           82|   68.0|  419|       66| 94.0|         89|          87|          83|     318|          54|          62|   58.0|       80|   64.0|  372|        79|   59.0|     81|      70|        83|      367|        81|         57.0|       72.0|  87.0|       70|     null|      150|     60|             46|          44.0|         51|       10|         12|         7|            15|          7|       2012|       411|3 ★| 2★|Medium|Medium|3 ★| 58| 71| 85| 71| 52| 74|  16|68+1|68+1|68+1|74+1| 73+1| 73+1| 73+1|74+1| 77+1| 77+1| 77+1|77+1|77+1|77+1|77+1|77+1| 67+1| 73+1| 73+1| 73+1| 67+1| 63+1| 59+1| 59+1| 59+1| 63+1|15+1|  Male|\n",
            "|330|     R. Keane| 35| 80| Republic of Ireland|         LA Galaxy| 81| CF|          ST|https://cdn.sofif...|https://cdn.sofif...|https://cdn.sofif...| 80|LA Galaxy 2011 ~ ...| 5'9\"\"|161lbs|Right|     0| Aug 1, 2011|         null|€5.5M|€10K|            €0| 2011 ~ 2022|      380|      68|       84|              63|           81|   84.0|  374|       82| 82.0|         63|          63|          84|     380|          69|          68|   77.0|       83|   83.0|  363|        81|   62.0|     72|      68|        80|      343|        67|         34.0|       85.0|  82.0|       75|     86.0|       71|     28|             26|          17.0|         63|       11|          9|        13|            14|         16|       1974|       407|4 ★| 3★|  High|   Low|2 ★| 68| 82| 75| 82| 31| 69|  10|79+1|79+1|79+1|79+0|81+-1|81+-1|81+-1|79+0|81+-1|81+-1|81+-1|78+1|74+1|74+1|74+1|78+1| 57+1| 57+1| 57+1| 57+1| 57+1| 52+1| 47+1| 47+1| 47+1| 52+1|20+1|  Male|\n",
            "|388|  S. Campbell| 35| 75|             England|  Newcastle United| 75| CB|        null|https://cdn.sofif...|https://cdn.sofif...|https://cdn.sofif...| 79|Newcastle United ...| 6'2\"\"|190lbs|Right|     4| Sep 2, 2010|         null|   €0|  €0|            €0| 2010 ~ 2011|      206|      20|       28|              81|           54|   23.0|  173|       40| 19.0|         15|          44|          55|     321|          61|          68|   44.0|       68|   80.0|  319|        57|   85.0|     64|      87|        26|      296|        84|         77.0|       41.0|  57.0|       37|     null|      222|     72|             77|          73.0|         44|       11|          7|        12|             5|          9|       1581|       347|3 ★| 2★|  null|  null|3 ★| 65| 34| 43| 48| 76| 81|   3|51+0|51+0|51+0|48+0| 48+0| 48+0| 48+0|48+0| 49+0| 49+0| 49+0|48+0|56+0|56+0|56+0|48+0| 63+0| 68+0| 68+0| 68+0| 63+0| 70+0| 75+0| 75+0| 75+0| 70+0|12+0|  Male|\n",
            "|488|      O. Kahn| 38| 87|             Germany| FC Bayern München| 87| GK|          GK|https://cdn.sofif...|https://cdn.sofif...|https://cdn.sofif...| 90|FC Bayern München...| 6'2\"\"|198lbs|Right|     3|        null|         null|   €0|  €0|            €0|        2008|       84|      21|       21|              21|           21|   null|  113|       21| null|          7|          62|          23|     204|          57|          62|   null|       85|   null|  179|        22|   null|     51|      85|        21|      228|        94|         91.0|       22.0|  null|       21|     null|       42|     21|             21|          null|        346|       83|         88|        62|            92|         83|       1196|       468|1 ★| 1★|  null|  null|4 ★| 83| 88| 62| 83| 60| 92|   4|29+0|29+0|29+0|29+0| 29+0| 29+0| 29+0|29+0| 33+0| 33+0| 33+0|29+0|36+0|36+0|36+0|29+0| 29+0| 31+0| 31+0| 31+0| 29+0| 31+0| 31+0| 31+0| 31+0| 31+0|87+0|  Male|\n",
            "|496|    D. Hamann| 36| 61|             Germany|Milton Keynes Dons| 67| CB|        null|https://cdn.sofif...|https://cdn.sofif...|https://cdn.sofif...| 82|Milton Keynes Don...| 6'2\"\"|168lbs|Right|    21| Sep 2, 2010|         null|   €0|  €0|            €0| 2010 ~ 2011|      270|      51|       35|              62|           76|   46.0|  288|       37| 47.0|         76|          64|          64|     212|          40|          44|   28.0|       30|   70.0|  330|        71|   83.0|     28|      82|        66|      344|        74|         75.0|       51.0|  78.0|       66|     null|      198|     70|             72|          56.0|         56|       11|         12|        10|             8|         15|       1698|       343|3 ★| 2★|  null|  null|3 ★| 42| 51| 68| 46| 69| 67|   3|51+0|51+0|51+0|50+0| 51+0| 51+0| 51+0|50+0| 59+0| 59+0| 59+0|53+0|61+0|61+0|61+0|53+0| 58+0| 65+0| 65+0| 65+0| 58+0| 62+0| 67+0| 67+0| 67+0| 62+0|14+0|  Male|\n",
            "|570|    A. Okocha| 33| 73|             Nigeria|         Hull City| 76| CF|        null|https://cdn.sofif...|https://cdn.sofif...|https://cdn.sofif...| 90|      Hull City 2009| 5'8\"\"|154lbs|Right|    17|        null|         null|   €0|  €0|            €0|        2009|      247|      72|       60|              40|           75|   null|  334|       90| null|         83|          70|          91|     192|          68|          64|   null|       60|   null|  252|        74|   null|     41|      57|        80|      249|        36|         69.0|       60.0|  null|       84|     null|       57|     23|             34|          null|         74|       11|         21|        70|            21|         21|       1405|       381|3 ★| 1★|  null|  null|2 ★| 66| 69| 74| 86| 38| 48|   3|71+0|71+0|71+0|76+0| 71+0| 71+0| 71+0|76+0| 73+0| 73+0| 73+0|76+0|71+0|71+0|71+0|76+0| 55+0| 63+0| 63+0| 63+0| 55+0| 51+0| 42+0| 42+0| 42+0| 51+0|23+0|  Male|\n",
            "|670|         Zulu| 26| 66|              Brazil|   Pohang Steelers| 66| ST|        null|https://cdn.sofif...|https://cdn.sofif...|https://cdn.sofif...| 72|Pohang Steelers 2...| 6'4\"\"|198lbs|Right|     6| Jan 1, 2005|         null|   €0|  €0|            €0| 2005 ~ 2013|      305|      43|       66|              73|           62|   61.0|  269|       61| 55.0|         47|          47|          59|     361|          72|          76|   68.0|       67|   78.0|  351|        56|   79.0|     71|      80|        65|      261|        70|         32.0|       45.0|  62.0|       52|     null|      101|     38|             31|          32.0|         56|       10|         15|         6|            14|         11|       1704|       367|3 ★| 2★|  null|  null|1 ★| 74| 62| 55| 62| 38| 76|   3|66+0|66+0|66+0|62+0| 64+0| 64+0| 64+0|62+0| 61+0| 61+0| 61+0|60+0|59+0|59+0|59+0|60+0| 51+0| 54+0| 54+0| 54+0| 51+0| 51+0| 54+0| 54+0| 54+0| 51+0|16+0|  Male|\n",
            "|684| M. Schwarzer| 42| 73|           Australia|    Leicester City| 73| GK|        null|https://cdn.sofif...|https://cdn.sofif...|https://cdn.sofif...| 73|Leicester City 20...| 6'4\"\"|209lbs|Right|     0| Jan 6, 2015|         null|€500K|€15K|            €0| 2015 ~ 2016|       79|      13|       11|              14|           24|   17.0|   78|       13| 14.0|         11|          23|          17|     204|          23|          26|   36.0|       76|   43.0|  191|        29|   55.0|     19|      70|        18|      146|        40|         22.0|       19.0|  31.0|       34|     null|       56|     17|             19|          20.0|        357|       70|         73|        67|            78|         69|       1111|       382|3 ★| 1★|Medium|Medium|2 ★| 70| 73| 67| 69| 25| 78|   3|25+0|25+0|25+0|23+0| 24+0| 24+0| 24+0|23+0| 25+0| 25+0| 25+0|23+0|26+0|26+0|26+0|23+0| 24+0| 28+0| 28+0| 28+0| 24+0| 24+0| 30+0| 30+0| 30+0| 24+0|73+0|  Male|\n",
            "|805|   J. Lehmann| 39| 79|             Germany|     VfB Stuttgart| 81| GK|        null|https://cdn.sofif...|https://cdn.sofif...|https://cdn.sofif...| 87|  VfB Stuttgart 2010| 6'3\"\"|192lbs|Right|     8|        null|         null|   €0|  €0|            €0|        2010|       90|      21|       21|              21|           27|   null|  128|       21| null|         10|          75|          22|     171|          49|          54|   null|       68|   null|  179|        29|   null|     55|      74|        21|      291|        78|         81.0|       58.0|  null|       74|     null|       42|     21|             21|          null|        323|       77|         82|        75|            88|         76|       1224|       450|3 ★| 1★|  null|  null|4 ★| 77| 82| 75| 76| 52| 88|   3|31+0|31+0|31+0|29+0| 31+0| 31+0| 31+0|29+0| 35+0| 35+0| 35+0|29+0|38+0|38+0|38+0|29+0| 29+0| 32+0| 32+0| 32+0| 29+0| 31+0| 30+0| 30+0| 30+0| 31+0|81+0|  Male|\n",
            "+---+-------------+---+---+--------------------+------------------+---+---+------------+--------------------+--------------------+--------------------+---+--------------------+------+------+-----+------+------------+-------------+-----+----+--------------+------------+---------+--------+---------+----------------+-------------+-------+-----+---------+-----+-----------+------------+------------+--------+------------+------------+-------+---------+-------+-----+----------+-------+-------+--------+----------+---------+----------+-------------+-----------+------+---------+---------+---------+-------+---------------+--------------+-----------+---------+-----------+----------+--------------+-----------+-----------+----------+---+---+------+------+---+---+---+---+---+---+---+----+----+----+----+----+-----+-----+-----+----+-----+-----+-----+----+----+----+----+----+-----+-----+-----+-----+-----+-----+-----+-----+-----+-----+----+------+\n",
            "only showing top 20 rows\n",
            "\n"
          ],
          "name": "stdout"
        }
      ]
    },
    {
      "cell_type": "markdown",
      "metadata": {
        "id": "n9WXBcmxQEsb"
      },
      "source": [
        "*  Calculate the IMC for each player, we need to know all players with\r\n",
        "overweight (IMC>25)."
      ]
    },
    {
      "cell_type": "code",
      "metadata": {
        "colab": {
          "base_uri": "https://localhost:8080/"
        },
        "id": "mYn5uIzNQtNC",
        "outputId": "7f38fcb6-b5c7-4cd4-faa3-a4ee1eb70303"
      },
      "source": [
        "df_raw = df_raw.withColumn('Height', regexp_replace('Height',\"'\", \"\"))\r\n",
        "df_raw = df_raw.withColumn('Height', regexp_replace('Height','\"\"', \"\"))\r\n",
        "df_raw = df_raw.withColumn('Weight', regexp_replace('Weight', \"lbs\", \"\"))\r\n",
        "df_raw.show()"
      ],
      "execution_count": null,
      "outputs": [
        {
          "output_type": "stream",
          "text": [
            "+---+-------------+---+---+--------------------+------------------+---+---+------------+--------------------+--------------------+--------------------+---+--------------------+------+------+-----+------+------------+-------------+-----+----+--------------+------------+---------+--------+---------+----------------+-------------+-------+-----+---------+-----+-----------+------------+------------+--------+------------+------------+-------+---------+-------+-----+----------+-------+-------+--------+----------+---------+----------+-------------+-----------+------+---------+---------+---------+-------+---------------+--------------+-----------+---------+-----------+----------+--------------+-----------+-----------+----------+---+---+------+------+---+---+---+---+---+---+---+----+----+----+----+----+-----+-----+-----+----+-----+-----+-----+----+----+----+----+----+-----+-----+-----+-----+-----+-----+-----+-----+-----+-----+----+------+\n",
            "| ID|         Name|Age|OVA|         Nationality|              Club|BOV| BP|    Position|        Player Photo|           Club Logo|          Flag Photo|POT|     Team & Contract|Height|Weight| foot|Growth|      Joined|Loan Date End|Value|Wage|Release Clause|    Contract|Attacking|Crossing|Finishing|Heading Accuracy|Short Passing|Volleys|Skill|Dribbling|Curve|FK Accuracy|Long Passing|Ball Control|Movement|Acceleration|Sprint Speed|Agility|Reactions|Balance|Power|Shot Power|Jumping|Stamina|Strength|Long Shots|Mentality|Aggression|Interceptions|Positioning|Vision|Penalties|Composure|Defending|Marking|Standing Tackle|Sliding Tackle|Goalkeeping|GK Diving|GK Handling|GK Kicking|GK Positioning|GK Reflexes|Total Stats|Base Stats|W/F| SM|   A/W|   D/W| IR|PAC|SHO|PAS|DRI|DEF|PHY|Hits|  LS|  ST|  RS|  LW|   LF|   CF|   RF|  RW|  LAM|  CAM|  RAM|  LM| LCM|  CM| RCM|  RM|  LWB|  LDM|  CDM|  RDM|  RWB|   LB|  LCB|   CB|  RCB|   RB|  GK|Gender|\n",
            "+---+-------------+---+---+--------------------+------------------+---+---+------------+--------------------+--------------------+--------------------+---+--------------------+------+------+-----+------+------------+-------------+-----+----+--------------+------------+---------+--------+---------+----------------+-------------+-------+-----+---------+-----+-----------+------------+------------+--------+------------+------------+-------+---------+-------+-----+----------+-------+-------+--------+----------+---------+----------+-------------+-----------+------+---------+---------+---------+-------+---------------+--------------+-----------+---------+-----------+----------+--------------+-----------+-----------+----------+---+---+------+------+---+---+---+---+---+---+---+----+----+----+----+----+-----+-----+-----+----+-----+-----+-----+----+----+----+----+----+-----+-----+-----+-----+-----+-----+-----+-----+-----+-----+----+------+\n",
            "|  2|  G. Pasquale| 33| 69|               Italy|           Udinese| 71|LWB|          LM|https://cdn.sofif...|https://cdn.sofif...|https://cdn.sofif...| 69| Udinese 2008 ~ 2016|    60|   181| Left|     0| Jul 1, 2008|         null|€625K| €7K|            €0| 2008 ~ 2016|      313|      75|       50|              59|           71|   58.0|  338|       73| 65.0|         60|          69|          71|     347|          68|          74|   68.0|       69|   68.0|  347|        74|   68.0|     69|      68|        68|      320|        72|         69.0|       63.0|  66.0|       50|     null|      208|     70|             69|          69.0|         56|       14|          5|        15|            10|         12|       1929|       408|3 ★| 2★|Medium|  High|2 ★| 71| 59| 70| 71| 68| 69|   4|65+0|65+0|65+0|68+0| 67+0| 67+0| 67+0|68+0| 68+0| 68+0| 68+0|69+0|69+0|69+0|69+0|69+0|71+-2|70+-1|70+-1|70+-1|71+-2|70+-1| 69+0| 69+0| 69+0|70+-1|17+0|  Male|\n",
            "| 16|  Luis García| 37| 71|               Spain|         KAS Eupen| 70| CM|  CM CAM CDM|https://cdn.sofif...|https://cdn.sofif...|https://cdn.sofif...| 71|KAS Eupen 2014 ~ ...|   510|   143|Right|     0|Jul 19, 2014|         null|€600K| €7K|         €1.1M| 2014 ~ 2019|      337|      68|       64|              61|           76|   68.0|  369|       69| 79.0|         79|          71|          71|     305|          56|          50|   62.0|       65|   72.0|  324|        75|   54.0|     64|      60|        71|      362|        71|         71.0|       72.0|  73.0|       75|     79.0|      153|     70|             43|          40.0|         56|        9|         12|        13|            11|         11|       1906|       385|4 ★| 3★|Medium|Medium|1 ★| 53| 69| 73| 69| 58| 63|   4|67+1|67+1|67+1|67+0| 68+0| 68+0| 68+0|67+0| 70+1| 70+1| 70+1|68+1|70+1|70+1|70+1|68+1| 62+1| 66+1| 66+1| 66+1| 62+1| 60+1| 60+1| 60+1| 60+1| 60+1|17+1|  Male|\n",
            "| 27|      J. Cole| 33| 71|             England|     Coventry City| 71|CAM|CAM RM RW LM|https://cdn.sofif...|https://cdn.sofif...|https://cdn.sofif...| 71|Coventry City 201...|    59|   161|Right|     0| Jan 7, 2016|         null|€1.1M|€15K|            €0| 2016 ~ 2020|      337|      80|       64|              41|           77|   75.0|  387|       79| 84.0|         77|          69|          78|     295|          48|          42|   71.0|       59|   75.0|  284|        72|   58.0|     29|      56|        69|      317|        69|         39.0|       69.0|  74.0|       66|     null|       99|     35|             34|          30.0|         51|        9|          6|        13|            16|          7|       1770|       354|4 ★| 4★|Medium|   Low|2 ★| 45| 68| 76| 77| 36| 52|  11|64+0|64+0|64+0|70+0| 69+0| 69+0| 69+0|70+0| 71+0| 71+0| 71+0|68+0|66+0|66+0|66+0|68+0| 52+0| 54+0| 54+0| 54+0| 52+0| 47+0| 46+0| 46+0| 46+0| 47+0|15+0|  Male|\n",
            "| 36|     D. Yorke| 36| 68|Trinidad &amp; To...|        Sunderland| 70| ST|        null|https://cdn.sofif...|https://cdn.sofif...|https://cdn.sofif...| 82|     Sunderland 2009|   511|   165|Right|    14|        null|         null|   €0|  €0|            €0|        2009|      264|      54|       70|              60|           80|   null|  255|       68| null|         46|          64|          77|     176|          59|          62|   null|       55|   null|  239|        63|   null|     51|      66|        59|      271|        59|         70.0|       72.0|  null|       70|     null|       75|     34|             41|          null|         68|        5|         21|        64|            21|         21|       1348|       369|3 ★| 1★|  null|  null|1 ★| 61| 66| 66| 69| 47| 60|   3|67+0|67+0|67+0|66+0| 67+0| 67+0| 67+0|66+0| 70+0| 70+0| 70+0|66+0|68+0|68+0|68+0|66+0| 56+0| 65+0| 65+0| 65+0| 56+0| 57+0| 51+0| 51+0| 51+0| 57+0|22+0|  Male|\n",
            "| 41|      Iniesta| 36| 81|               Spain|       Vissel Kobe| 82|CAM|      CM CAM|https://cdn.sofif...|https://cdn.sofif...|https://cdn.sofif...| 81|Vissel Kobe 2018 ...|    57|   150|Right|     0|Jul 16, 2018|         null|€5.5M|€12K|         €7.2M| 2018 ~ 2021|      367|      75|       69|              54|           90|   79.0|  408|       85| 80.0|         70|          83|          90|     346|          61|          56|   79.0|       75|   75.0|  297|        67|   40.0|     58|      62|        70|      370|        58|         70.0|       78.0|  93.0|       71|     89.0|      181|     68|             57|          56.0|         45|        6|         13|         6|            13|          7|       2014|       420|4 ★| 4★|  High|Medium|4 ★| 58| 70| 85| 85| 63| 59| 149|72+3|72+3|72+3|79+0| 79+0| 79+0| 79+0|79+0|82+-1|82+-1|82+-1|79+2|81+0|81+0|81+0|79+2| 70+3| 73+3| 73+3| 73+3| 70+3| 67+3| 64+3| 64+3| 64+3| 67+3|17+3|  Male|\n",
            "| 61|   D. Odonkor| 27| 66|             Germany|  Alemannia Aachen| 66| RW|       RW RM|https://cdn.sofif...|https://cdn.sofif...|https://cdn.sofif...| 70|Alemannia Aachen ...|    58|   163|Right|     4| Jan 1, 2011|         null|€725K| €5K|            €0| 2011 ~ 2012|      271|      61|       53|              42|           58|   57.0|  276|       67| 61.0|         42|          44|          62|     406|          90|          91|   75.0|       65|   85.0|  315|        71|   70.0|     64|      61|        49|      256|        63|         26.0|       63.0|  58.0|       46|     null|       79|     22|             26|          31.0|         46|        8|         13|         7|             9|          9|       1649|       360|2 ★| 3★|Medium|Medium|2 ★| 91| 56| 56| 67| 27| 63|   7|62+0|62+0|62+0|66+0| 62+0| 62+0| 62+0|66+0| 62+0| 62+0| 62+0|64+0|54+0|54+0|54+0|64+0| 50+0| 47+0| 47+0| 47+0| 50+0| 46+0| 41+0| 41+0| 41+0| 46+0|13+0|  Male|\n",
            "| 80| E. Belözoğlu| 38| 77|              Turkey|     Fenerbahçe SK| 77| CM|      CM CDM|https://cdn.sofif...|https://cdn.sofif...|https://cdn.sofif...| 77|Fenerbahçe SK 201...|    57|   159| Left|     0| Jul 2, 2019|         null|€2.8M|€44K|         €5.3M| 2019 ~ 2020|      342|      80|       66|              43|           84|   69.0|  406|       77| 83.0|         80|          85|          81|     308|          54|          36|   67.0|       70|   81.0|  340|        77|   72.0|     51|      64|        76|      384|        87|         62.0|       65.0|  85.0|       85|     80.0|      190|     65|             65|          60.0|         47|        7|         11|         7|            14|          8|       2017|       403|4 ★| 4★|Medium|Medium|2 ★| 44| 71| 83| 77| 62| 66|   7|66+2|66+2|66+2|72+0| 72+0| 72+0| 72+0|72+0| 75+2| 75+2| 75+2|72+2|76+1|76+1|76+1|72+2| 66+2| 72+2| 72+2| 72+2| 66+2| 64+2| 65+2| 65+2| 65+2| 64+2|16+2|  Male|\n",
            "|241|     R. Giggs| 39| 78|               Wales| Manchester United| 78|CAM|   LM CM CAM|https://cdn.sofif...|https://cdn.sofif...|https://cdn.sofif...| 78|Manchester United...|   510|   157| Left|     0| Dec 1, 1990|         null|  €1K|€60K|            €0| 1990 ~ 2014|      380|      90|       70|              60|           85|   75.0|  402|       77| 87.0|         78|          81|          79|     337|          59|          60|   72.0|       76|   70.0|  310|        71|   59.0|     48|      61|        71|      358|        60|         47.0|       78.0|  83.0|       90|     null|      120|     26|             43|          51.0|         32|       10|          5|         7|             5|          5|       1939|       392|2 ★| 3★|Medium|Medium|3 ★| 60| 72| 85| 77| 41| 57|   9|71+1|71+1|71+1|78+0| 74+1| 74+1| 74+1|78+0| 78+0| 78+0| 78+0|77+1|73+1|73+1|73+1|77+1| 62+1| 63+1| 63+1| 63+1| 62+1| 57+1| 53+1| 53+1| 53+1| 57+1|11+1|  Male|\n",
            "|244|G. Neville  B| 35| 76|             England| Manchester United| 78| CB|   RB CB RWB|https://cdn.sofif...|https://cdn.sofif...|https://cdn.sofif...| 82|Manchester United...|   510|   174|Right|     6| Jan 1, 1991|         null|   €0|  €0|            €0| 1991 ~ 2011|      304|      72|       31|              75|           71|   55.0|  258|       44| 56.0|         33|          61|          64|     324|          64|          70|   51.0|       72|   67.0|  284|        47|   70.0|     65|      74|        28|      319|        87|         85.0|       45.0|  70.0|       32|     null|      242|     78|             81|          83.0|         43|       12|          9|         5|             6|         11|       1774|       378|3 ★| 2★|  null|  null|3 ★| 67| 36| 67| 53| 81| 74|   4|54+0|54+0|54+0|60+0| 56+0| 56+0| 56+0|60+0| 56+0| 56+0| 56+0|62+0|64+0|64+0|64+0|62+0| 73+0| 74+0| 74+0| 74+0| 73+0| 76+0| 78+0| 78+0| 78+0| 76+0|13+0|  Male|\n",
            "|246|   P. Scholes| 37| 80|             England| Manchester United| 82|CAM|      CM CDM|https://cdn.sofif...|https://cdn.sofif...|https://cdn.sofif...| 80|Manchester United...|    57|   157|Right|     0| Jul 8, 1993|         null|€400K|€40K|            €0| 1993 ~ 2013|      394|      83|       65|              72|           89|   85.0|  393|       75| 74.0|         67|          90|          87|     338|          53|          53|   68.0|       82|   82.0|  333|        88|   64.0|     34|      63|        84|      417|        87|         79.0|       83.0|  91.0|       77|     null|      143|     58|             49|          36.0|         47|        7|         12|         5|            15|          8|       2065|       415|3 ★| 3★|Medium|Medium|2 ★| 53| 76| 87| 79| 59| 61|   7|75+0|75+0|75+0|78+0| 79+0| 79+0| 79+0|78+0|82+-2|82+-2|82+-2|78+0|80+0|80+0|80+0|78+0| 67+0| 75+0| 75+0| 75+0| 67+0| 64+0| 64+0| 64+0| 64+0| 64+0|15+0|  Male|\n",
            "|249|   P. Neville| 35| 74|             England|           Everton| 75| CB|   CDM CM RB|https://cdn.sofif...|https://cdn.sofif...|https://cdn.sofif...| 74| Everton 2005 ~ 2013|   511|   168|Right|     0| Aug 1, 2005|         null|€120K| €7K|            €0| 2005 ~ 2013|      315|      73|       36|              69|           74|   63.0|  283|       53| 45.0|         41|          72|          72|     321|          52|          51|   65.0|       83|   70.0|  349|        77|   71.0|     61|      76|        64|      335|        78|         83.0|       48.0|  57.0|       69|     null|      224|     77|             75|          72.0|         41|       10|          7|        12|             5|          7|       1868|       381|4 ★| 2★|Medium|  High|2 ★| 51| 53| 67| 62| 76| 72|   7|59+0|59+0|59+0|63+0| 61+0| 61+0| 61+0|63+0| 63+0| 63+0| 63+0|65+0|68+0|68+0|68+0|65+0| 72+0| 74+0| 74+0| 74+0| 72+0| 73+0|75+-1|75+-1|75+-1| 73+0|12+0|  Male|\n",
            "|250|   D. Beckham| 37| 78|             England|              null| 77| CM|       CM RM|https://cdn.sofif...|                null|https://cdn.sofif...| 78|        England Free|    60|   165|Right|     0| Jan 1, 2013|         null|   €0|  €0|            €0|England Free|      335|      82|       62|              41|           82|   68.0|  419|       66| 94.0|         89|          87|          83|     318|          54|          62|   58.0|       80|   64.0|  372|        79|   59.0|     81|      70|        83|      367|        81|         57.0|       72.0|  87.0|       70|     null|      150|     60|             46|          44.0|         51|       10|         12|         7|            15|          7|       2012|       411|3 ★| 2★|Medium|Medium|3 ★| 58| 71| 85| 71| 52| 74|  16|68+1|68+1|68+1|74+1| 73+1| 73+1| 73+1|74+1| 77+1| 77+1| 77+1|77+1|77+1|77+1|77+1|77+1| 67+1| 73+1| 73+1| 73+1| 67+1| 63+1| 59+1| 59+1| 59+1| 63+1|15+1|  Male|\n",
            "|330|     R. Keane| 35| 80| Republic of Ireland|         LA Galaxy| 81| CF|          ST|https://cdn.sofif...|https://cdn.sofif...|https://cdn.sofif...| 80|LA Galaxy 2011 ~ ...|    59|   161|Right|     0| Aug 1, 2011|         null|€5.5M|€10K|            €0| 2011 ~ 2022|      380|      68|       84|              63|           81|   84.0|  374|       82| 82.0|         63|          63|          84|     380|          69|          68|   77.0|       83|   83.0|  363|        81|   62.0|     72|      68|        80|      343|        67|         34.0|       85.0|  82.0|       75|     86.0|       71|     28|             26|          17.0|         63|       11|          9|        13|            14|         16|       1974|       407|4 ★| 3★|  High|   Low|2 ★| 68| 82| 75| 82| 31| 69|  10|79+1|79+1|79+1|79+0|81+-1|81+-1|81+-1|79+0|81+-1|81+-1|81+-1|78+1|74+1|74+1|74+1|78+1| 57+1| 57+1| 57+1| 57+1| 57+1| 52+1| 47+1| 47+1| 47+1| 52+1|20+1|  Male|\n",
            "|388|  S. Campbell| 35| 75|             England|  Newcastle United| 75| CB|        null|https://cdn.sofif...|https://cdn.sofif...|https://cdn.sofif...| 79|Newcastle United ...|    62|   190|Right|     4| Sep 2, 2010|         null|   €0|  €0|            €0| 2010 ~ 2011|      206|      20|       28|              81|           54|   23.0|  173|       40| 19.0|         15|          44|          55|     321|          61|          68|   44.0|       68|   80.0|  319|        57|   85.0|     64|      87|        26|      296|        84|         77.0|       41.0|  57.0|       37|     null|      222|     72|             77|          73.0|         44|       11|          7|        12|             5|          9|       1581|       347|3 ★| 2★|  null|  null|3 ★| 65| 34| 43| 48| 76| 81|   3|51+0|51+0|51+0|48+0| 48+0| 48+0| 48+0|48+0| 49+0| 49+0| 49+0|48+0|56+0|56+0|56+0|48+0| 63+0| 68+0| 68+0| 68+0| 63+0| 70+0| 75+0| 75+0| 75+0| 70+0|12+0|  Male|\n",
            "|488|      O. Kahn| 38| 87|             Germany| FC Bayern München| 87| GK|          GK|https://cdn.sofif...|https://cdn.sofif...|https://cdn.sofif...| 90|FC Bayern München...|    62|   198|Right|     3|        null|         null|   €0|  €0|            €0|        2008|       84|      21|       21|              21|           21|   null|  113|       21| null|          7|          62|          23|     204|          57|          62|   null|       85|   null|  179|        22|   null|     51|      85|        21|      228|        94|         91.0|       22.0|  null|       21|     null|       42|     21|             21|          null|        346|       83|         88|        62|            92|         83|       1196|       468|1 ★| 1★|  null|  null|4 ★| 83| 88| 62| 83| 60| 92|   4|29+0|29+0|29+0|29+0| 29+0| 29+0| 29+0|29+0| 33+0| 33+0| 33+0|29+0|36+0|36+0|36+0|29+0| 29+0| 31+0| 31+0| 31+0| 29+0| 31+0| 31+0| 31+0| 31+0| 31+0|87+0|  Male|\n",
            "|496|    D. Hamann| 36| 61|             Germany|Milton Keynes Dons| 67| CB|        null|https://cdn.sofif...|https://cdn.sofif...|https://cdn.sofif...| 82|Milton Keynes Don...|    62|   168|Right|    21| Sep 2, 2010|         null|   €0|  €0|            €0| 2010 ~ 2011|      270|      51|       35|              62|           76|   46.0|  288|       37| 47.0|         76|          64|          64|     212|          40|          44|   28.0|       30|   70.0|  330|        71|   83.0|     28|      82|        66|      344|        74|         75.0|       51.0|  78.0|       66|     null|      198|     70|             72|          56.0|         56|       11|         12|        10|             8|         15|       1698|       343|3 ★| 2★|  null|  null|3 ★| 42| 51| 68| 46| 69| 67|   3|51+0|51+0|51+0|50+0| 51+0| 51+0| 51+0|50+0| 59+0| 59+0| 59+0|53+0|61+0|61+0|61+0|53+0| 58+0| 65+0| 65+0| 65+0| 58+0| 62+0| 67+0| 67+0| 67+0| 62+0|14+0|  Male|\n",
            "|570|    A. Okocha| 33| 73|             Nigeria|         Hull City| 76| CF|        null|https://cdn.sofif...|https://cdn.sofif...|https://cdn.sofif...| 90|      Hull City 2009|    58|   154|Right|    17|        null|         null|   €0|  €0|            €0|        2009|      247|      72|       60|              40|           75|   null|  334|       90| null|         83|          70|          91|     192|          68|          64|   null|       60|   null|  252|        74|   null|     41|      57|        80|      249|        36|         69.0|       60.0|  null|       84|     null|       57|     23|             34|          null|         74|       11|         21|        70|            21|         21|       1405|       381|3 ★| 1★|  null|  null|2 ★| 66| 69| 74| 86| 38| 48|   3|71+0|71+0|71+0|76+0| 71+0| 71+0| 71+0|76+0| 73+0| 73+0| 73+0|76+0|71+0|71+0|71+0|76+0| 55+0| 63+0| 63+0| 63+0| 55+0| 51+0| 42+0| 42+0| 42+0| 51+0|23+0|  Male|\n",
            "|670|         Zulu| 26| 66|              Brazil|   Pohang Steelers| 66| ST|        null|https://cdn.sofif...|https://cdn.sofif...|https://cdn.sofif...| 72|Pohang Steelers 2...|    64|   198|Right|     6| Jan 1, 2005|         null|   €0|  €0|            €0| 2005 ~ 2013|      305|      43|       66|              73|           62|   61.0|  269|       61| 55.0|         47|          47|          59|     361|          72|          76|   68.0|       67|   78.0|  351|        56|   79.0|     71|      80|        65|      261|        70|         32.0|       45.0|  62.0|       52|     null|      101|     38|             31|          32.0|         56|       10|         15|         6|            14|         11|       1704|       367|3 ★| 2★|  null|  null|1 ★| 74| 62| 55| 62| 38| 76|   3|66+0|66+0|66+0|62+0| 64+0| 64+0| 64+0|62+0| 61+0| 61+0| 61+0|60+0|59+0|59+0|59+0|60+0| 51+0| 54+0| 54+0| 54+0| 51+0| 51+0| 54+0| 54+0| 54+0| 51+0|16+0|  Male|\n",
            "|684| M. Schwarzer| 42| 73|           Australia|    Leicester City| 73| GK|        null|https://cdn.sofif...|https://cdn.sofif...|https://cdn.sofif...| 73|Leicester City 20...|    64|   209|Right|     0| Jan 6, 2015|         null|€500K|€15K|            €0| 2015 ~ 2016|       79|      13|       11|              14|           24|   17.0|   78|       13| 14.0|         11|          23|          17|     204|          23|          26|   36.0|       76|   43.0|  191|        29|   55.0|     19|      70|        18|      146|        40|         22.0|       19.0|  31.0|       34|     null|       56|     17|             19|          20.0|        357|       70|         73|        67|            78|         69|       1111|       382|3 ★| 1★|Medium|Medium|2 ★| 70| 73| 67| 69| 25| 78|   3|25+0|25+0|25+0|23+0| 24+0| 24+0| 24+0|23+0| 25+0| 25+0| 25+0|23+0|26+0|26+0|26+0|23+0| 24+0| 28+0| 28+0| 28+0| 24+0| 24+0| 30+0| 30+0| 30+0| 24+0|73+0|  Male|\n",
            "|805|   J. Lehmann| 39| 79|             Germany|     VfB Stuttgart| 81| GK|        null|https://cdn.sofif...|https://cdn.sofif...|https://cdn.sofif...| 87|  VfB Stuttgart 2010|    63|   192|Right|     8|        null|         null|   €0|  €0|            €0|        2010|       90|      21|       21|              21|           27|   null|  128|       21| null|         10|          75|          22|     171|          49|          54|   null|       68|   null|  179|        29|   null|     55|      74|        21|      291|        78|         81.0|       58.0|  null|       74|     null|       42|     21|             21|          null|        323|       77|         82|        75|            88|         76|       1224|       450|3 ★| 1★|  null|  null|4 ★| 77| 82| 75| 76| 52| 88|   3|31+0|31+0|31+0|29+0| 31+0| 31+0| 31+0|29+0| 35+0| 35+0| 35+0|29+0|38+0|38+0|38+0|29+0| 29+0| 32+0| 32+0| 32+0| 29+0| 31+0| 30+0| 30+0| 30+0| 31+0|81+0|  Male|\n",
            "+---+-------------+---+---+--------------------+------------------+---+---+------------+--------------------+--------------------+--------------------+---+--------------------+------+------+-----+------+------------+-------------+-----+----+--------------+------------+---------+--------+---------+----------------+-------------+-------+-----+---------+-----+-----------+------------+------------+--------+------------+------------+-------+---------+-------+-----+----------+-------+-------+--------+----------+---------+----------+-------------+-----------+------+---------+---------+---------+-------+---------------+--------------+-----------+---------+-----------+----------+--------------+-----------+-----------+----------+---+---+------+------+---+---+---+---+---+---+---+----+----+----+----+----+-----+-----+-----+----+-----+-----+-----+----+----+----+----+----+-----+-----+-----+-----+-----+-----+-----+-----+-----+-----+----+------+\n",
            "only showing top 20 rows\n",
            "\n"
          ],
          "name": "stdout"
        }
      ]
    },
    {
      "cell_type": "code",
      "metadata": {
        "colab": {
          "base_uri": "https://localhost:8080/"
        },
        "id": "fPPcrRRFO28Q",
        "outputId": "7123af9d-fbf5-486c-a2c1-ee320dad158e"
      },
      "source": [
        "# Write a custom function to convert the data type of DataFrame columns\r\n",
        "def convertColumn(df, names, newType):\r\n",
        "    for name in names: \r\n",
        "        df = df.withColumn(name, df[name].cast(newType))\r\n",
        "    return df \r\n",
        "# List of continuous features\r\n",
        "CONTI_FEATURES  = ['Height','Weight']\r\n",
        "# Convert the type\r\n",
        "df_numeric_height_weight = convertColumn(df_raw, CONTI_FEATURES, FloatType())\r\n",
        "# Check the dataset\r\n",
        "df_numeric_height_weight.printSchema()"
      ],
      "execution_count": null,
      "outputs": [
        {
          "output_type": "stream",
          "text": [
            "root\n",
            " |-- ID: string (nullable = true)\n",
            " |-- Name: string (nullable = true)\n",
            " |-- Age: string (nullable = true)\n",
            " |-- OVA: string (nullable = true)\n",
            " |-- Nationality: string (nullable = true)\n",
            " |-- Club: string (nullable = true)\n",
            " |-- BOV: string (nullable = true)\n",
            " |-- BP: string (nullable = true)\n",
            " |-- Position: string (nullable = true)\n",
            " |-- Player Photo: string (nullable = true)\n",
            " |-- Club Logo: string (nullable = true)\n",
            " |-- Flag Photo: string (nullable = true)\n",
            " |-- POT: string (nullable = true)\n",
            " |-- Team & Contract: string (nullable = true)\n",
            " |-- Height: float (nullable = true)\n",
            " |-- Weight: float (nullable = true)\n",
            " |-- foot: string (nullable = true)\n",
            " |-- Growth: string (nullable = true)\n",
            " |-- Joined: string (nullable = true)\n",
            " |-- Loan Date End: string (nullable = true)\n",
            " |-- Value: string (nullable = true)\n",
            " |-- Wage: string (nullable = true)\n",
            " |-- Release Clause: string (nullable = true)\n",
            " |-- Contract: string (nullable = true)\n",
            " |-- Attacking: string (nullable = true)\n",
            " |-- Crossing: string (nullable = true)\n",
            " |-- Finishing: string (nullable = true)\n",
            " |-- Heading Accuracy: string (nullable = true)\n",
            " |-- Short Passing: string (nullable = true)\n",
            " |-- Volleys: string (nullable = true)\n",
            " |-- Skill: string (nullable = true)\n",
            " |-- Dribbling: string (nullable = true)\n",
            " |-- Curve: string (nullable = true)\n",
            " |-- FK Accuracy: string (nullable = true)\n",
            " |-- Long Passing: string (nullable = true)\n",
            " |-- Ball Control: string (nullable = true)\n",
            " |-- Movement: string (nullable = true)\n",
            " |-- Acceleration: string (nullable = true)\n",
            " |-- Sprint Speed: string (nullable = true)\n",
            " |-- Agility: string (nullable = true)\n",
            " |-- Reactions: string (nullable = true)\n",
            " |-- Balance: string (nullable = true)\n",
            " |-- Power: string (nullable = true)\n",
            " |-- Shot Power: string (nullable = true)\n",
            " |-- Jumping: string (nullable = true)\n",
            " |-- Stamina: string (nullable = true)\n",
            " |-- Strength: string (nullable = true)\n",
            " |-- Long Shots: string (nullable = true)\n",
            " |-- Mentality: string (nullable = true)\n",
            " |-- Aggression: string (nullable = true)\n",
            " |-- Interceptions: string (nullable = true)\n",
            " |-- Positioning: string (nullable = true)\n",
            " |-- Vision: string (nullable = true)\n",
            " |-- Penalties: string (nullable = true)\n",
            " |-- Composure: string (nullable = true)\n",
            " |-- Defending: string (nullable = true)\n",
            " |-- Marking: string (nullable = true)\n",
            " |-- Standing Tackle: string (nullable = true)\n",
            " |-- Sliding Tackle: string (nullable = true)\n",
            " |-- Goalkeeping: string (nullable = true)\n",
            " |-- GK Diving: string (nullable = true)\n",
            " |-- GK Handling: string (nullable = true)\n",
            " |-- GK Kicking: string (nullable = true)\n",
            " |-- GK Positioning: string (nullable = true)\n",
            " |-- GK Reflexes: string (nullable = true)\n",
            " |-- Total Stats: string (nullable = true)\n",
            " |-- Base Stats: string (nullable = true)\n",
            " |-- W/F: string (nullable = true)\n",
            " |-- SM: string (nullable = true)\n",
            " |-- A/W: string (nullable = true)\n",
            " |-- D/W: string (nullable = true)\n",
            " |-- IR: string (nullable = true)\n",
            " |-- PAC: string (nullable = true)\n",
            " |-- SHO: string (nullable = true)\n",
            " |-- PAS: string (nullable = true)\n",
            " |-- DRI: string (nullable = true)\n",
            " |-- DEF: string (nullable = true)\n",
            " |-- PHY: string (nullable = true)\n",
            " |-- Hits: string (nullable = true)\n",
            " |-- LS: string (nullable = true)\n",
            " |-- ST: string (nullable = true)\n",
            " |-- RS: string (nullable = true)\n",
            " |-- LW: string (nullable = true)\n",
            " |-- LF: string (nullable = true)\n",
            " |-- CF: string (nullable = true)\n",
            " |-- RF: string (nullable = true)\n",
            " |-- RW: string (nullable = true)\n",
            " |-- LAM: string (nullable = true)\n",
            " |-- CAM: string (nullable = true)\n",
            " |-- RAM: string (nullable = true)\n",
            " |-- LM: string (nullable = true)\n",
            " |-- LCM: string (nullable = true)\n",
            " |-- CM: string (nullable = true)\n",
            " |-- RCM: string (nullable = true)\n",
            " |-- RM: string (nullable = true)\n",
            " |-- LWB: string (nullable = true)\n",
            " |-- LDM: string (nullable = true)\n",
            " |-- CDM: string (nullable = true)\n",
            " |-- RDM: string (nullable = true)\n",
            " |-- RWB: string (nullable = true)\n",
            " |-- LB: string (nullable = true)\n",
            " |-- LCB: string (nullable = true)\n",
            " |-- CB: string (nullable = true)\n",
            " |-- RCB: string (nullable = true)\n",
            " |-- RB: string (nullable = true)\n",
            " |-- GK: string (nullable = true)\n",
            " |-- Gender: string (nullable = true)\n",
            "\n"
          ],
          "name": "stdout"
        }
      ]
    },
    {
      "cell_type": "code",
      "metadata": {
        "colab": {
          "base_uri": "https://localhost:8080/"
        },
        "id": "-nQKuQZIQY2q",
        "outputId": "c3dc341c-cfad-4e8b-f408-b796e5dd1a45"
      },
      "source": [
        "df_numeric_height_weight.show()"
      ],
      "execution_count": null,
      "outputs": [
        {
          "output_type": "stream",
          "text": [
            "+---+-------------+---+---+--------------------+------------------+---+---+------------+--------------------+--------------------+--------------------+---+--------------------+------+------+-----+------+------------+-------------+-----+----+--------------+------------+---------+--------+---------+----------------+-------------+-------+-----+---------+-----+-----------+------------+------------+--------+------------+------------+-------+---------+-------+-----+----------+-------+-------+--------+----------+---------+----------+-------------+-----------+------+---------+---------+---------+-------+---------------+--------------+-----------+---------+-----------+----------+--------------+-----------+-----------+----------+---+---+------+------+---+---+---+---+---+---+---+----+----+----+----+----+-----+-----+-----+----+-----+-----+-----+----+----+----+----+----+-----+-----+-----+-----+-----+-----+-----+-----+-----+-----+----+------+\n",
            "| ID|         Name|Age|OVA|         Nationality|              Club|BOV| BP|    Position|        Player Photo|           Club Logo|          Flag Photo|POT|     Team & Contract|Height|Weight| foot|Growth|      Joined|Loan Date End|Value|Wage|Release Clause|    Contract|Attacking|Crossing|Finishing|Heading Accuracy|Short Passing|Volleys|Skill|Dribbling|Curve|FK Accuracy|Long Passing|Ball Control|Movement|Acceleration|Sprint Speed|Agility|Reactions|Balance|Power|Shot Power|Jumping|Stamina|Strength|Long Shots|Mentality|Aggression|Interceptions|Positioning|Vision|Penalties|Composure|Defending|Marking|Standing Tackle|Sliding Tackle|Goalkeeping|GK Diving|GK Handling|GK Kicking|GK Positioning|GK Reflexes|Total Stats|Base Stats|W/F| SM|   A/W|   D/W| IR|PAC|SHO|PAS|DRI|DEF|PHY|Hits|  LS|  ST|  RS|  LW|   LF|   CF|   RF|  RW|  LAM|  CAM|  RAM|  LM| LCM|  CM| RCM|  RM|  LWB|  LDM|  CDM|  RDM|  RWB|   LB|  LCB|   CB|  RCB|   RB|  GK|Gender|\n",
            "+---+-------------+---+---+--------------------+------------------+---+---+------------+--------------------+--------------------+--------------------+---+--------------------+------+------+-----+------+------------+-------------+-----+----+--------------+------------+---------+--------+---------+----------------+-------------+-------+-----+---------+-----+-----------+------------+------------+--------+------------+------------+-------+---------+-------+-----+----------+-------+-------+--------+----------+---------+----------+-------------+-----------+------+---------+---------+---------+-------+---------------+--------------+-----------+---------+-----------+----------+--------------+-----------+-----------+----------+---+---+------+------+---+---+---+---+---+---+---+----+----+----+----+----+-----+-----+-----+----+-----+-----+-----+----+----+----+----+----+-----+-----+-----+-----+-----+-----+-----+-----+-----+-----+----+------+\n",
            "|  2|  G. Pasquale| 33| 69|               Italy|           Udinese| 71|LWB|          LM|https://cdn.sofif...|https://cdn.sofif...|https://cdn.sofif...| 69| Udinese 2008 ~ 2016|  60.0| 181.0| Left|     0| Jul 1, 2008|         null|€625K| €7K|            €0| 2008 ~ 2016|      313|      75|       50|              59|           71|   58.0|  338|       73| 65.0|         60|          69|          71|     347|          68|          74|   68.0|       69|   68.0|  347|        74|   68.0|     69|      68|        68|      320|        72|         69.0|       63.0|  66.0|       50|     null|      208|     70|             69|          69.0|         56|       14|          5|        15|            10|         12|       1929|       408|3 ★| 2★|Medium|  High|2 ★| 71| 59| 70| 71| 68| 69|   4|65+0|65+0|65+0|68+0| 67+0| 67+0| 67+0|68+0| 68+0| 68+0| 68+0|69+0|69+0|69+0|69+0|69+0|71+-2|70+-1|70+-1|70+-1|71+-2|70+-1| 69+0| 69+0| 69+0|70+-1|17+0|  Male|\n",
            "| 16|  Luis García| 37| 71|               Spain|         KAS Eupen| 70| CM|  CM CAM CDM|https://cdn.sofif...|https://cdn.sofif...|https://cdn.sofif...| 71|KAS Eupen 2014 ~ ...| 510.0| 143.0|Right|     0|Jul 19, 2014|         null|€600K| €7K|         €1.1M| 2014 ~ 2019|      337|      68|       64|              61|           76|   68.0|  369|       69| 79.0|         79|          71|          71|     305|          56|          50|   62.0|       65|   72.0|  324|        75|   54.0|     64|      60|        71|      362|        71|         71.0|       72.0|  73.0|       75|     79.0|      153|     70|             43|          40.0|         56|        9|         12|        13|            11|         11|       1906|       385|4 ★| 3★|Medium|Medium|1 ★| 53| 69| 73| 69| 58| 63|   4|67+1|67+1|67+1|67+0| 68+0| 68+0| 68+0|67+0| 70+1| 70+1| 70+1|68+1|70+1|70+1|70+1|68+1| 62+1| 66+1| 66+1| 66+1| 62+1| 60+1| 60+1| 60+1| 60+1| 60+1|17+1|  Male|\n",
            "| 27|      J. Cole| 33| 71|             England|     Coventry City| 71|CAM|CAM RM RW LM|https://cdn.sofif...|https://cdn.sofif...|https://cdn.sofif...| 71|Coventry City 201...|  59.0| 161.0|Right|     0| Jan 7, 2016|         null|€1.1M|€15K|            €0| 2016 ~ 2020|      337|      80|       64|              41|           77|   75.0|  387|       79| 84.0|         77|          69|          78|     295|          48|          42|   71.0|       59|   75.0|  284|        72|   58.0|     29|      56|        69|      317|        69|         39.0|       69.0|  74.0|       66|     null|       99|     35|             34|          30.0|         51|        9|          6|        13|            16|          7|       1770|       354|4 ★| 4★|Medium|   Low|2 ★| 45| 68| 76| 77| 36| 52|  11|64+0|64+0|64+0|70+0| 69+0| 69+0| 69+0|70+0| 71+0| 71+0| 71+0|68+0|66+0|66+0|66+0|68+0| 52+0| 54+0| 54+0| 54+0| 52+0| 47+0| 46+0| 46+0| 46+0| 47+0|15+0|  Male|\n",
            "| 36|     D. Yorke| 36| 68|Trinidad &amp; To...|        Sunderland| 70| ST|        null|https://cdn.sofif...|https://cdn.sofif...|https://cdn.sofif...| 82|     Sunderland 2009| 511.0| 165.0|Right|    14|        null|         null|   €0|  €0|            €0|        2009|      264|      54|       70|              60|           80|   null|  255|       68| null|         46|          64|          77|     176|          59|          62|   null|       55|   null|  239|        63|   null|     51|      66|        59|      271|        59|         70.0|       72.0|  null|       70|     null|       75|     34|             41|          null|         68|        5|         21|        64|            21|         21|       1348|       369|3 ★| 1★|  null|  null|1 ★| 61| 66| 66| 69| 47| 60|   3|67+0|67+0|67+0|66+0| 67+0| 67+0| 67+0|66+0| 70+0| 70+0| 70+0|66+0|68+0|68+0|68+0|66+0| 56+0| 65+0| 65+0| 65+0| 56+0| 57+0| 51+0| 51+0| 51+0| 57+0|22+0|  Male|\n",
            "| 41|      Iniesta| 36| 81|               Spain|       Vissel Kobe| 82|CAM|      CM CAM|https://cdn.sofif...|https://cdn.sofif...|https://cdn.sofif...| 81|Vissel Kobe 2018 ...|  57.0| 150.0|Right|     0|Jul 16, 2018|         null|€5.5M|€12K|         €7.2M| 2018 ~ 2021|      367|      75|       69|              54|           90|   79.0|  408|       85| 80.0|         70|          83|          90|     346|          61|          56|   79.0|       75|   75.0|  297|        67|   40.0|     58|      62|        70|      370|        58|         70.0|       78.0|  93.0|       71|     89.0|      181|     68|             57|          56.0|         45|        6|         13|         6|            13|          7|       2014|       420|4 ★| 4★|  High|Medium|4 ★| 58| 70| 85| 85| 63| 59| 149|72+3|72+3|72+3|79+0| 79+0| 79+0| 79+0|79+0|82+-1|82+-1|82+-1|79+2|81+0|81+0|81+0|79+2| 70+3| 73+3| 73+3| 73+3| 70+3| 67+3| 64+3| 64+3| 64+3| 67+3|17+3|  Male|\n",
            "| 61|   D. Odonkor| 27| 66|             Germany|  Alemannia Aachen| 66| RW|       RW RM|https://cdn.sofif...|https://cdn.sofif...|https://cdn.sofif...| 70|Alemannia Aachen ...|  58.0| 163.0|Right|     4| Jan 1, 2011|         null|€725K| €5K|            €0| 2011 ~ 2012|      271|      61|       53|              42|           58|   57.0|  276|       67| 61.0|         42|          44|          62|     406|          90|          91|   75.0|       65|   85.0|  315|        71|   70.0|     64|      61|        49|      256|        63|         26.0|       63.0|  58.0|       46|     null|       79|     22|             26|          31.0|         46|        8|         13|         7|             9|          9|       1649|       360|2 ★| 3★|Medium|Medium|2 ★| 91| 56| 56| 67| 27| 63|   7|62+0|62+0|62+0|66+0| 62+0| 62+0| 62+0|66+0| 62+0| 62+0| 62+0|64+0|54+0|54+0|54+0|64+0| 50+0| 47+0| 47+0| 47+0| 50+0| 46+0| 41+0| 41+0| 41+0| 46+0|13+0|  Male|\n",
            "| 80| E. Belözoğlu| 38| 77|              Turkey|     Fenerbahçe SK| 77| CM|      CM CDM|https://cdn.sofif...|https://cdn.sofif...|https://cdn.sofif...| 77|Fenerbahçe SK 201...|  57.0| 159.0| Left|     0| Jul 2, 2019|         null|€2.8M|€44K|         €5.3M| 2019 ~ 2020|      342|      80|       66|              43|           84|   69.0|  406|       77| 83.0|         80|          85|          81|     308|          54|          36|   67.0|       70|   81.0|  340|        77|   72.0|     51|      64|        76|      384|        87|         62.0|       65.0|  85.0|       85|     80.0|      190|     65|             65|          60.0|         47|        7|         11|         7|            14|          8|       2017|       403|4 ★| 4★|Medium|Medium|2 ★| 44| 71| 83| 77| 62| 66|   7|66+2|66+2|66+2|72+0| 72+0| 72+0| 72+0|72+0| 75+2| 75+2| 75+2|72+2|76+1|76+1|76+1|72+2| 66+2| 72+2| 72+2| 72+2| 66+2| 64+2| 65+2| 65+2| 65+2| 64+2|16+2|  Male|\n",
            "|241|     R. Giggs| 39| 78|               Wales| Manchester United| 78|CAM|   LM CM CAM|https://cdn.sofif...|https://cdn.sofif...|https://cdn.sofif...| 78|Manchester United...| 510.0| 157.0| Left|     0| Dec 1, 1990|         null|  €1K|€60K|            €0| 1990 ~ 2014|      380|      90|       70|              60|           85|   75.0|  402|       77| 87.0|         78|          81|          79|     337|          59|          60|   72.0|       76|   70.0|  310|        71|   59.0|     48|      61|        71|      358|        60|         47.0|       78.0|  83.0|       90|     null|      120|     26|             43|          51.0|         32|       10|          5|         7|             5|          5|       1939|       392|2 ★| 3★|Medium|Medium|3 ★| 60| 72| 85| 77| 41| 57|   9|71+1|71+1|71+1|78+0| 74+1| 74+1| 74+1|78+0| 78+0| 78+0| 78+0|77+1|73+1|73+1|73+1|77+1| 62+1| 63+1| 63+1| 63+1| 62+1| 57+1| 53+1| 53+1| 53+1| 57+1|11+1|  Male|\n",
            "|244|G. Neville  B| 35| 76|             England| Manchester United| 78| CB|   RB CB RWB|https://cdn.sofif...|https://cdn.sofif...|https://cdn.sofif...| 82|Manchester United...| 510.0| 174.0|Right|     6| Jan 1, 1991|         null|   €0|  €0|            €0| 1991 ~ 2011|      304|      72|       31|              75|           71|   55.0|  258|       44| 56.0|         33|          61|          64|     324|          64|          70|   51.0|       72|   67.0|  284|        47|   70.0|     65|      74|        28|      319|        87|         85.0|       45.0|  70.0|       32|     null|      242|     78|             81|          83.0|         43|       12|          9|         5|             6|         11|       1774|       378|3 ★| 2★|  null|  null|3 ★| 67| 36| 67| 53| 81| 74|   4|54+0|54+0|54+0|60+0| 56+0| 56+0| 56+0|60+0| 56+0| 56+0| 56+0|62+0|64+0|64+0|64+0|62+0| 73+0| 74+0| 74+0| 74+0| 73+0| 76+0| 78+0| 78+0| 78+0| 76+0|13+0|  Male|\n",
            "|246|   P. Scholes| 37| 80|             England| Manchester United| 82|CAM|      CM CDM|https://cdn.sofif...|https://cdn.sofif...|https://cdn.sofif...| 80|Manchester United...|  57.0| 157.0|Right|     0| Jul 8, 1993|         null|€400K|€40K|            €0| 1993 ~ 2013|      394|      83|       65|              72|           89|   85.0|  393|       75| 74.0|         67|          90|          87|     338|          53|          53|   68.0|       82|   82.0|  333|        88|   64.0|     34|      63|        84|      417|        87|         79.0|       83.0|  91.0|       77|     null|      143|     58|             49|          36.0|         47|        7|         12|         5|            15|          8|       2065|       415|3 ★| 3★|Medium|Medium|2 ★| 53| 76| 87| 79| 59| 61|   7|75+0|75+0|75+0|78+0| 79+0| 79+0| 79+0|78+0|82+-2|82+-2|82+-2|78+0|80+0|80+0|80+0|78+0| 67+0| 75+0| 75+0| 75+0| 67+0| 64+0| 64+0| 64+0| 64+0| 64+0|15+0|  Male|\n",
            "|249|   P. Neville| 35| 74|             England|           Everton| 75| CB|   CDM CM RB|https://cdn.sofif...|https://cdn.sofif...|https://cdn.sofif...| 74| Everton 2005 ~ 2013| 511.0| 168.0|Right|     0| Aug 1, 2005|         null|€120K| €7K|            €0| 2005 ~ 2013|      315|      73|       36|              69|           74|   63.0|  283|       53| 45.0|         41|          72|          72|     321|          52|          51|   65.0|       83|   70.0|  349|        77|   71.0|     61|      76|        64|      335|        78|         83.0|       48.0|  57.0|       69|     null|      224|     77|             75|          72.0|         41|       10|          7|        12|             5|          7|       1868|       381|4 ★| 2★|Medium|  High|2 ★| 51| 53| 67| 62| 76| 72|   7|59+0|59+0|59+0|63+0| 61+0| 61+0| 61+0|63+0| 63+0| 63+0| 63+0|65+0|68+0|68+0|68+0|65+0| 72+0| 74+0| 74+0| 74+0| 72+0| 73+0|75+-1|75+-1|75+-1| 73+0|12+0|  Male|\n",
            "|250|   D. Beckham| 37| 78|             England|              null| 77| CM|       CM RM|https://cdn.sofif...|                null|https://cdn.sofif...| 78|        England Free|  60.0| 165.0|Right|     0| Jan 1, 2013|         null|   €0|  €0|            €0|England Free|      335|      82|       62|              41|           82|   68.0|  419|       66| 94.0|         89|          87|          83|     318|          54|          62|   58.0|       80|   64.0|  372|        79|   59.0|     81|      70|        83|      367|        81|         57.0|       72.0|  87.0|       70|     null|      150|     60|             46|          44.0|         51|       10|         12|         7|            15|          7|       2012|       411|3 ★| 2★|Medium|Medium|3 ★| 58| 71| 85| 71| 52| 74|  16|68+1|68+1|68+1|74+1| 73+1| 73+1| 73+1|74+1| 77+1| 77+1| 77+1|77+1|77+1|77+1|77+1|77+1| 67+1| 73+1| 73+1| 73+1| 67+1| 63+1| 59+1| 59+1| 59+1| 63+1|15+1|  Male|\n",
            "|330|     R. Keane| 35| 80| Republic of Ireland|         LA Galaxy| 81| CF|          ST|https://cdn.sofif...|https://cdn.sofif...|https://cdn.sofif...| 80|LA Galaxy 2011 ~ ...|  59.0| 161.0|Right|     0| Aug 1, 2011|         null|€5.5M|€10K|            €0| 2011 ~ 2022|      380|      68|       84|              63|           81|   84.0|  374|       82| 82.0|         63|          63|          84|     380|          69|          68|   77.0|       83|   83.0|  363|        81|   62.0|     72|      68|        80|      343|        67|         34.0|       85.0|  82.0|       75|     86.0|       71|     28|             26|          17.0|         63|       11|          9|        13|            14|         16|       1974|       407|4 ★| 3★|  High|   Low|2 ★| 68| 82| 75| 82| 31| 69|  10|79+1|79+1|79+1|79+0|81+-1|81+-1|81+-1|79+0|81+-1|81+-1|81+-1|78+1|74+1|74+1|74+1|78+1| 57+1| 57+1| 57+1| 57+1| 57+1| 52+1| 47+1| 47+1| 47+1| 52+1|20+1|  Male|\n",
            "|388|  S. Campbell| 35| 75|             England|  Newcastle United| 75| CB|        null|https://cdn.sofif...|https://cdn.sofif...|https://cdn.sofif...| 79|Newcastle United ...|  62.0| 190.0|Right|     4| Sep 2, 2010|         null|   €0|  €0|            €0| 2010 ~ 2011|      206|      20|       28|              81|           54|   23.0|  173|       40| 19.0|         15|          44|          55|     321|          61|          68|   44.0|       68|   80.0|  319|        57|   85.0|     64|      87|        26|      296|        84|         77.0|       41.0|  57.0|       37|     null|      222|     72|             77|          73.0|         44|       11|          7|        12|             5|          9|       1581|       347|3 ★| 2★|  null|  null|3 ★| 65| 34| 43| 48| 76| 81|   3|51+0|51+0|51+0|48+0| 48+0| 48+0| 48+0|48+0| 49+0| 49+0| 49+0|48+0|56+0|56+0|56+0|48+0| 63+0| 68+0| 68+0| 68+0| 63+0| 70+0| 75+0| 75+0| 75+0| 70+0|12+0|  Male|\n",
            "|488|      O. Kahn| 38| 87|             Germany| FC Bayern München| 87| GK|          GK|https://cdn.sofif...|https://cdn.sofif...|https://cdn.sofif...| 90|FC Bayern München...|  62.0| 198.0|Right|     3|        null|         null|   €0|  €0|            €0|        2008|       84|      21|       21|              21|           21|   null|  113|       21| null|          7|          62|          23|     204|          57|          62|   null|       85|   null|  179|        22|   null|     51|      85|        21|      228|        94|         91.0|       22.0|  null|       21|     null|       42|     21|             21|          null|        346|       83|         88|        62|            92|         83|       1196|       468|1 ★| 1★|  null|  null|4 ★| 83| 88| 62| 83| 60| 92|   4|29+0|29+0|29+0|29+0| 29+0| 29+0| 29+0|29+0| 33+0| 33+0| 33+0|29+0|36+0|36+0|36+0|29+0| 29+0| 31+0| 31+0| 31+0| 29+0| 31+0| 31+0| 31+0| 31+0| 31+0|87+0|  Male|\n",
            "|496|    D. Hamann| 36| 61|             Germany|Milton Keynes Dons| 67| CB|        null|https://cdn.sofif...|https://cdn.sofif...|https://cdn.sofif...| 82|Milton Keynes Don...|  62.0| 168.0|Right|    21| Sep 2, 2010|         null|   €0|  €0|            €0| 2010 ~ 2011|      270|      51|       35|              62|           76|   46.0|  288|       37| 47.0|         76|          64|          64|     212|          40|          44|   28.0|       30|   70.0|  330|        71|   83.0|     28|      82|        66|      344|        74|         75.0|       51.0|  78.0|       66|     null|      198|     70|             72|          56.0|         56|       11|         12|        10|             8|         15|       1698|       343|3 ★| 2★|  null|  null|3 ★| 42| 51| 68| 46| 69| 67|   3|51+0|51+0|51+0|50+0| 51+0| 51+0| 51+0|50+0| 59+0| 59+0| 59+0|53+0|61+0|61+0|61+0|53+0| 58+0| 65+0| 65+0| 65+0| 58+0| 62+0| 67+0| 67+0| 67+0| 62+0|14+0|  Male|\n",
            "|570|    A. Okocha| 33| 73|             Nigeria|         Hull City| 76| CF|        null|https://cdn.sofif...|https://cdn.sofif...|https://cdn.sofif...| 90|      Hull City 2009|  58.0| 154.0|Right|    17|        null|         null|   €0|  €0|            €0|        2009|      247|      72|       60|              40|           75|   null|  334|       90| null|         83|          70|          91|     192|          68|          64|   null|       60|   null|  252|        74|   null|     41|      57|        80|      249|        36|         69.0|       60.0|  null|       84|     null|       57|     23|             34|          null|         74|       11|         21|        70|            21|         21|       1405|       381|3 ★| 1★|  null|  null|2 ★| 66| 69| 74| 86| 38| 48|   3|71+0|71+0|71+0|76+0| 71+0| 71+0| 71+0|76+0| 73+0| 73+0| 73+0|76+0|71+0|71+0|71+0|76+0| 55+0| 63+0| 63+0| 63+0| 55+0| 51+0| 42+0| 42+0| 42+0| 51+0|23+0|  Male|\n",
            "|670|         Zulu| 26| 66|              Brazil|   Pohang Steelers| 66| ST|        null|https://cdn.sofif...|https://cdn.sofif...|https://cdn.sofif...| 72|Pohang Steelers 2...|  64.0| 198.0|Right|     6| Jan 1, 2005|         null|   €0|  €0|            €0| 2005 ~ 2013|      305|      43|       66|              73|           62|   61.0|  269|       61| 55.0|         47|          47|          59|     361|          72|          76|   68.0|       67|   78.0|  351|        56|   79.0|     71|      80|        65|      261|        70|         32.0|       45.0|  62.0|       52|     null|      101|     38|             31|          32.0|         56|       10|         15|         6|            14|         11|       1704|       367|3 ★| 2★|  null|  null|1 ★| 74| 62| 55| 62| 38| 76|   3|66+0|66+0|66+0|62+0| 64+0| 64+0| 64+0|62+0| 61+0| 61+0| 61+0|60+0|59+0|59+0|59+0|60+0| 51+0| 54+0| 54+0| 54+0| 51+0| 51+0| 54+0| 54+0| 54+0| 51+0|16+0|  Male|\n",
            "|684| M. Schwarzer| 42| 73|           Australia|    Leicester City| 73| GK|        null|https://cdn.sofif...|https://cdn.sofif...|https://cdn.sofif...| 73|Leicester City 20...|  64.0| 209.0|Right|     0| Jan 6, 2015|         null|€500K|€15K|            €0| 2015 ~ 2016|       79|      13|       11|              14|           24|   17.0|   78|       13| 14.0|         11|          23|          17|     204|          23|          26|   36.0|       76|   43.0|  191|        29|   55.0|     19|      70|        18|      146|        40|         22.0|       19.0|  31.0|       34|     null|       56|     17|             19|          20.0|        357|       70|         73|        67|            78|         69|       1111|       382|3 ★| 1★|Medium|Medium|2 ★| 70| 73| 67| 69| 25| 78|   3|25+0|25+0|25+0|23+0| 24+0| 24+0| 24+0|23+0| 25+0| 25+0| 25+0|23+0|26+0|26+0|26+0|23+0| 24+0| 28+0| 28+0| 28+0| 24+0| 24+0| 30+0| 30+0| 30+0| 24+0|73+0|  Male|\n",
            "|805|   J. Lehmann| 39| 79|             Germany|     VfB Stuttgart| 81| GK|        null|https://cdn.sofif...|https://cdn.sofif...|https://cdn.sofif...| 87|  VfB Stuttgart 2010|  63.0| 192.0|Right|     8|        null|         null|   €0|  €0|            €0|        2010|       90|      21|       21|              21|           27|   null|  128|       21| null|         10|          75|          22|     171|          49|          54|   null|       68|   null|  179|        29|   null|     55|      74|        21|      291|        78|         81.0|       58.0|  null|       74|     null|       42|     21|             21|          null|        323|       77|         82|        75|            88|         76|       1224|       450|3 ★| 1★|  null|  null|4 ★| 77| 82| 75| 76| 52| 88|   3|31+0|31+0|31+0|29+0| 31+0| 31+0| 31+0|29+0| 35+0| 35+0| 35+0|29+0|38+0|38+0|38+0|29+0| 29+0| 32+0| 32+0| 32+0| 29+0| 31+0| 30+0| 30+0| 30+0| 31+0|81+0|  Male|\n",
            "+---+-------------+---+---+--------------------+------------------+---+---+------------+--------------------+--------------------+--------------------+---+--------------------+------+------+-----+------+------------+-------------+-----+----+--------------+------------+---------+--------+---------+----------------+-------------+-------+-----+---------+-----+-----------+------------+------------+--------+------------+------------+-------+---------+-------+-----+----------+-------+-------+--------+----------+---------+----------+-------------+-----------+------+---------+---------+---------+-------+---------------+--------------+-----------+---------+-----------+----------+--------------+-----------+-----------+----------+---+---+------+------+---+---+---+---+---+---+---+----+----+----+----+----+-----+-----+-----+----+-----+-----+-----+----+----+----+----+----+-----+-----+-----+-----+-----+-----+-----+-----+-----+-----+----+------+\n",
            "only showing top 20 rows\n",
            "\n"
          ],
          "name": "stdout"
        }
      ]
    },
    {
      "cell_type": "code",
      "metadata": {
        "colab": {
          "base_uri": "https://localhost:8080/"
        },
        "id": "7qSVes0NQc5P",
        "outputId": "fd013a06-93a8-4570-e478-c8fad696770a"
      },
      "source": [
        "df_numeric_height_weight = df_numeric_height_weight.withColumn('IMC', df_numeric_height_weight.Weight/df_numeric_height_weight.Height**2 * 703)\r\n",
        "df_numeric_height_weight.show()"
      ],
      "execution_count": null,
      "outputs": [
        {
          "output_type": "stream",
          "text": [
            "+---+-------------+---+---+--------------------+------------------+---+---+------------+--------------------+--------------------+--------------------+---+--------------------+------+------+-----+------+------------+-------------+-----+----+--------------+------------+---------+--------+---------+----------------+-------------+-------+-----+---------+-----+-----------+------------+------------+--------+------------+------------+-------+---------+-------+-----+----------+-------+-------+--------+----------+---------+----------+-------------+-----------+------+---------+---------+---------+-------+---------------+--------------+-----------+---------+-----------+----------+--------------+-----------+-----------+----------+---+---+------+------+---+---+---+---+---+---+---+----+----+----+----+----+-----+-----+-----+----+-----+-----+-----+----+----+----+----+----+-----+-----+-----+-----+-----+-----+-----+-----+-----+-----+----+------+-------------------+\n",
            "| ID|         Name|Age|OVA|         Nationality|              Club|BOV| BP|    Position|        Player Photo|           Club Logo|          Flag Photo|POT|     Team & Contract|Height|Weight| foot|Growth|      Joined|Loan Date End|Value|Wage|Release Clause|    Contract|Attacking|Crossing|Finishing|Heading Accuracy|Short Passing|Volleys|Skill|Dribbling|Curve|FK Accuracy|Long Passing|Ball Control|Movement|Acceleration|Sprint Speed|Agility|Reactions|Balance|Power|Shot Power|Jumping|Stamina|Strength|Long Shots|Mentality|Aggression|Interceptions|Positioning|Vision|Penalties|Composure|Defending|Marking|Standing Tackle|Sliding Tackle|Goalkeeping|GK Diving|GK Handling|GK Kicking|GK Positioning|GK Reflexes|Total Stats|Base Stats|W/F| SM|   A/W|   D/W| IR|PAC|SHO|PAS|DRI|DEF|PHY|Hits|  LS|  ST|  RS|  LW|   LF|   CF|   RF|  RW|  LAM|  CAM|  RAM|  LM| LCM|  CM| RCM|  RM|  LWB|  LDM|  CDM|  RDM|  RWB|   LB|  LCB|   CB|  RCB|   RB|  GK|Gender|                IMC|\n",
            "+---+-------------+---+---+--------------------+------------------+---+---+------------+--------------------+--------------------+--------------------+---+--------------------+------+------+-----+------+------------+-------------+-----+----+--------------+------------+---------+--------+---------+----------------+-------------+-------+-----+---------+-----+-----------+------------+------------+--------+------------+------------+-------+---------+-------+-----+----------+-------+-------+--------+----------+---------+----------+-------------+-----------+------+---------+---------+---------+-------+---------------+--------------+-----------+---------+-----------+----------+--------------+-----------+-----------+----------+---+---+------+------+---+---+---+---+---+---+---+----+----+----+----+----+-----+-----+-----+----+-----+-----+-----+----+----+----+----+----+-----+-----+-----+-----+-----+-----+-----+-----+-----+-----+----+------+-------------------+\n",
            "|  2|  G. Pasquale| 33| 69|               Italy|           Udinese| 71|LWB|          LM|https://cdn.sofif...|https://cdn.sofif...|https://cdn.sofif...| 69| Udinese 2008 ~ 2016|  60.0| 181.0| Left|     0| Jul 1, 2008|         null|€625K| €7K|            €0| 2008 ~ 2016|      313|      75|       50|              59|           71|   58.0|  338|       73| 65.0|         60|          69|          71|     347|          68|          74|   68.0|       69|   68.0|  347|        74|   68.0|     69|      68|        68|      320|        72|         69.0|       63.0|  66.0|       50|     null|      208|     70|             69|          69.0|         56|       14|          5|        15|            10|         12|       1929|       408|3 ★| 2★|Medium|  High|2 ★| 71| 59| 70| 71| 68| 69|   4|65+0|65+0|65+0|68+0| 67+0| 67+0| 67+0|68+0| 68+0| 68+0| 68+0|69+0|69+0|69+0|69+0|69+0|71+-2|70+-1|70+-1|70+-1|71+-2|70+-1| 69+0| 69+0| 69+0|70+-1|17+0|  Male| 35.345277777777774|\n",
            "| 16|  Luis García| 37| 71|               Spain|         KAS Eupen| 70| CM|  CM CAM CDM|https://cdn.sofif...|https://cdn.sofif...|https://cdn.sofif...| 71|KAS Eupen 2014 ~ ...| 510.0| 143.0|Right|     0|Jul 19, 2014|         null|€600K| €7K|         €1.1M| 2014 ~ 2019|      337|      68|       64|              61|           76|   68.0|  369|       69| 79.0|         79|          71|          71|     305|          56|          50|   62.0|       65|   72.0|  324|        75|   54.0|     64|      60|        71|      362|        71|         71.0|       72.0|  73.0|       75|     79.0|      153|     70|             43|          40.0|         56|        9|         12|        13|            11|         11|       1906|       385|4 ★| 3★|Medium|Medium|1 ★| 53| 69| 73| 69| 58| 63|   4|67+1|67+1|67+1|67+0| 68+0| 68+0| 68+0|67+0| 70+1| 70+1| 70+1|68+1|70+1|70+1|70+1|68+1| 62+1| 66+1| 66+1| 66+1| 62+1| 60+1| 60+1| 60+1| 60+1| 60+1|17+1|  Male|0.38650134563629374|\n",
            "| 27|      J. Cole| 33| 71|             England|     Coventry City| 71|CAM|CAM RM RW LM|https://cdn.sofif...|https://cdn.sofif...|https://cdn.sofif...| 71|Coventry City 201...|  59.0| 161.0|Right|     0| Jan 7, 2016|         null|€1.1M|€15K|            €0| 2016 ~ 2020|      337|      80|       64|              41|           77|   75.0|  387|       79| 84.0|         77|          69|          78|     295|          48|          42|   71.0|       59|   75.0|  284|        72|   58.0|     29|      56|        69|      317|        69|         39.0|       69.0|  74.0|       66|     null|       99|     35|             34|          30.0|         51|        9|          6|        13|            16|          7|       1770|       354|4 ★| 4★|Medium|   Low|2 ★| 45| 68| 76| 77| 36| 52|  11|64+0|64+0|64+0|70+0| 69+0| 69+0| 69+0|70+0| 71+0| 71+0| 71+0|68+0|66+0|66+0|66+0|68+0| 52+0| 54+0| 54+0| 54+0| 52+0| 47+0| 46+0| 46+0| 46+0| 47+0|15+0|  Male|  32.51450732548118|\n",
            "| 36|     D. Yorke| 36| 68|Trinidad &amp; To...|        Sunderland| 70| ST|        null|https://cdn.sofif...|https://cdn.sofif...|https://cdn.sofif...| 82|     Sunderland 2009| 511.0| 165.0|Right|    14|        null|         null|   €0|  €0|            €0|        2009|      264|      54|       70|              60|           80|   null|  255|       68| null|         46|          64|          77|     176|          59|          62|   null|       55|   null|  239|        63|   null|     51|      66|        59|      271|        59|         70.0|       72.0|  null|       70|     null|       75|     34|             41|          null|         68|        5|         21|        64|            21|         21|       1348|       369|3 ★| 1★|  null|  null|1 ★| 61| 66| 66| 69| 47| 60|   3|67+0|67+0|67+0|66+0| 67+0| 67+0| 67+0|66+0| 70+0| 70+0| 70+0|66+0|68+0|68+0|68+0|66+0| 56+0| 65+0| 65+0| 65+0| 56+0| 57+0| 51+0| 51+0| 51+0| 57+0|22+0|  Male| 0.4442193465864484|\n",
            "| 41|      Iniesta| 36| 81|               Spain|       Vissel Kobe| 82|CAM|      CM CAM|https://cdn.sofif...|https://cdn.sofif...|https://cdn.sofif...| 81|Vissel Kobe 2018 ...|  57.0| 150.0|Right|     0|Jul 16, 2018|         null|€5.5M|€12K|         €7.2M| 2018 ~ 2021|      367|      75|       69|              54|           90|   79.0|  408|       85| 80.0|         70|          83|          90|     346|          61|          56|   79.0|       75|   75.0|  297|        67|   40.0|     58|      62|        70|      370|        58|         70.0|       78.0|  93.0|       71|     89.0|      181|     68|             57|          56.0|         45|        6|         13|         6|            13|          7|       2014|       420|4 ★| 4★|  High|Medium|4 ★| 58| 70| 85| 85| 63| 59| 149|72+3|72+3|72+3|79+0| 79+0| 79+0| 79+0|79+0|82+-1|82+-1|82+-1|79+2|81+0|81+0|81+0|79+2| 70+3| 73+3| 73+3| 73+3| 70+3| 67+3| 64+3| 64+3| 64+3| 67+3|17+3|  Male|  32.45614035087719|\n",
            "| 61|   D. Odonkor| 27| 66|             Germany|  Alemannia Aachen| 66| RW|       RW RM|https://cdn.sofif...|https://cdn.sofif...|https://cdn.sofif...| 70|Alemannia Aachen ...|  58.0| 163.0|Right|     4| Jan 1, 2011|         null|€725K| €5K|            €0| 2011 ~ 2012|      271|      61|       53|              42|           58|   57.0|  276|       67| 61.0|         42|          44|          62|     406|          90|          91|   75.0|       65|   85.0|  315|        71|   70.0|     64|      61|        49|      256|        63|         26.0|       63.0|  58.0|       46|     null|       79|     22|             26|          31.0|         46|        8|         13|         7|             9|          9|       1649|       360|2 ★| 3★|Medium|Medium|2 ★| 91| 56| 56| 67| 27| 63|   7|62+0|62+0|62+0|66+0| 62+0| 62+0| 62+0|66+0| 62+0| 62+0| 62+0|64+0|54+0|54+0|54+0|64+0| 50+0| 47+0| 47+0| 47+0| 50+0| 46+0| 41+0| 41+0| 41+0| 46+0|13+0|  Male|  34.06331747919144|\n",
            "| 80| E. Belözoğlu| 38| 77|              Turkey|     Fenerbahçe SK| 77| CM|      CM CDM|https://cdn.sofif...|https://cdn.sofif...|https://cdn.sofif...| 77|Fenerbahçe SK 201...|  57.0| 159.0| Left|     0| Jul 2, 2019|         null|€2.8M|€44K|         €5.3M| 2019 ~ 2020|      342|      80|       66|              43|           84|   69.0|  406|       77| 83.0|         80|          85|          81|     308|          54|          36|   67.0|       70|   81.0|  340|        77|   72.0|     51|      64|        76|      384|        87|         62.0|       65.0|  85.0|       85|     80.0|      190|     65|             65|          60.0|         47|        7|         11|         7|            14|          8|       2017|       403|4 ★| 4★|Medium|Medium|2 ★| 44| 71| 83| 77| 62| 66|   7|66+2|66+2|66+2|72+0| 72+0| 72+0| 72+0|72+0| 75+2| 75+2| 75+2|72+2|76+1|76+1|76+1|72+2| 66+2| 72+2| 72+2| 72+2| 66+2| 64+2| 65+2| 65+2| 65+2| 64+2|16+2|  Male|  34.40350877192982|\n",
            "|241|     R. Giggs| 39| 78|               Wales| Manchester United| 78|CAM|   LM CM CAM|https://cdn.sofif...|https://cdn.sofif...|https://cdn.sofif...| 78|Manchester United...| 510.0| 157.0| Left|     0| Dec 1, 1990|         null|  €1K|€60K|            €0| 1990 ~ 2014|      380|      90|       70|              60|           85|   75.0|  402|       77| 87.0|         78|          81|          79|     337|          59|          60|   72.0|       76|   70.0|  310|        71|   59.0|     48|      61|        71|      358|        60|         47.0|       78.0|  83.0|       90|     null|      120|     26|             43|          51.0|         32|       10|          5|         7|             5|          5|       1939|       392|2 ★| 3★|Medium|Medium|3 ★| 60| 72| 85| 77| 41| 57|   9|71+1|71+1|71+1|78+0| 74+1| 74+1| 74+1|78+0| 78+0| 78+0| 78+0|77+1|73+1|73+1|73+1|77+1| 62+1| 63+1| 63+1| 63+1| 62+1| 57+1| 53+1| 53+1| 53+1| 57+1|11+1|  Male|0.42434063821607076|\n",
            "|244|G. Neville  B| 35| 76|             England| Manchester United| 78| CB|   RB CB RWB|https://cdn.sofif...|https://cdn.sofif...|https://cdn.sofif...| 82|Manchester United...| 510.0| 174.0|Right|     6| Jan 1, 1991|         null|   €0|  €0|            €0| 1991 ~ 2011|      304|      72|       31|              75|           71|   55.0|  258|       44| 56.0|         33|          61|          64|     324|          64|          70|   51.0|       72|   67.0|  284|        47|   70.0|     65|      74|        28|      319|        87|         85.0|       45.0|  70.0|       32|     null|      242|     78|             81|          83.0|         43|       12|          9|         5|             6|         11|       1774|       378|3 ★| 2★|  null|  null|3 ★| 67| 36| 67| 53| 81| 74|   4|54+0|54+0|54+0|60+0| 56+0| 56+0| 56+0|60+0| 56+0| 56+0| 56+0|62+0|64+0|64+0|64+0|62+0| 73+0| 74+0| 74+0| 74+0| 73+0| 76+0| 78+0| 78+0| 78+0| 76+0|13+0|  Male| 0.4702883506343714|\n",
            "|246|   P. Scholes| 37| 80|             England| Manchester United| 82|CAM|      CM CDM|https://cdn.sofif...|https://cdn.sofif...|https://cdn.sofif...| 80|Manchester United...|  57.0| 157.0|Right|     0| Jul 8, 1993|         null|€400K|€40K|            €0| 1993 ~ 2013|      394|      83|       65|              72|           89|   85.0|  393|       75| 74.0|         67|          90|          87|     338|          53|          53|   68.0|       82|   82.0|  333|        88|   64.0|     34|      63|        84|      417|        87|         79.0|       83.0|  91.0|       77|     null|      143|     58|             49|          36.0|         47|        7|         12|         5|            15|          8|       2065|       415|3 ★| 3★|Medium|Medium|2 ★| 53| 76| 87| 79| 59| 61|   7|75+0|75+0|75+0|78+0| 79+0| 79+0| 79+0|78+0|82+-2|82+-2|82+-2|78+0|80+0|80+0|80+0|78+0| 67+0| 75+0| 75+0| 75+0| 67+0| 64+0| 64+0| 64+0| 64+0| 64+0|15+0|  Male|  33.97076023391813|\n",
            "|249|   P. Neville| 35| 74|             England|           Everton| 75| CB|   CDM CM RB|https://cdn.sofif...|https://cdn.sofif...|https://cdn.sofif...| 74| Everton 2005 ~ 2013| 511.0| 168.0|Right|     0| Aug 1, 2005|         null|€120K| €7K|            €0| 2005 ~ 2013|      315|      73|       36|              69|           74|   63.0|  283|       53| 45.0|         41|          72|          72|     321|          52|          51|   65.0|       83|   70.0|  349|        77|   71.0|     61|      76|        64|      335|        78|         83.0|       48.0|  57.0|       69|     null|      224|     77|             75|          72.0|         41|       10|          7|        12|             5|          7|       1868|       381|4 ★| 2★|Medium|  High|2 ★| 51| 53| 67| 62| 76| 72|   7|59+0|59+0|59+0|63+0| 61+0| 61+0| 61+0|63+0| 63+0| 63+0| 63+0|65+0|68+0|68+0|68+0|65+0| 72+0| 74+0| 74+0| 74+0| 72+0| 73+0|75+-1|75+-1|75+-1| 73+0|12+0|  Male| 0.4522960619789293|\n",
            "|250|   D. Beckham| 37| 78|             England|              null| 77| CM|       CM RM|https://cdn.sofif...|                null|https://cdn.sofif...| 78|        England Free|  60.0| 165.0|Right|     0| Jan 1, 2013|         null|   €0|  €0|            €0|England Free|      335|      82|       62|              41|           82|   68.0|  419|       66| 94.0|         89|          87|          83|     318|          54|          62|   58.0|       80|   64.0|  372|        79|   59.0|     81|      70|        83|      367|        81|         57.0|       72.0|  87.0|       70|     null|      150|     60|             46|          44.0|         51|       10|         12|         7|            15|          7|       2012|       411|3 ★| 2★|Medium|Medium|3 ★| 58| 71| 85| 71| 52| 74|  16|68+1|68+1|68+1|74+1| 73+1| 73+1| 73+1|74+1| 77+1| 77+1| 77+1|77+1|77+1|77+1|77+1|77+1| 67+1| 73+1| 73+1| 73+1| 67+1| 63+1| 59+1| 59+1| 59+1| 63+1|15+1|  Male|  32.22083333333333|\n",
            "|330|     R. Keane| 35| 80| Republic of Ireland|         LA Galaxy| 81| CF|          ST|https://cdn.sofif...|https://cdn.sofif...|https://cdn.sofif...| 80|LA Galaxy 2011 ~ ...|  59.0| 161.0|Right|     0| Aug 1, 2011|         null|€5.5M|€10K|            €0| 2011 ~ 2022|      380|      68|       84|              63|           81|   84.0|  374|       82| 82.0|         63|          63|          84|     380|          69|          68|   77.0|       83|   83.0|  363|        81|   62.0|     72|      68|        80|      343|        67|         34.0|       85.0|  82.0|       75|     86.0|       71|     28|             26|          17.0|         63|       11|          9|        13|            14|         16|       1974|       407|4 ★| 3★|  High|   Low|2 ★| 68| 82| 75| 82| 31| 69|  10|79+1|79+1|79+1|79+0|81+-1|81+-1|81+-1|79+0|81+-1|81+-1|81+-1|78+1|74+1|74+1|74+1|78+1| 57+1| 57+1| 57+1| 57+1| 57+1| 52+1| 47+1| 47+1| 47+1| 52+1|20+1|  Male|  32.51450732548118|\n",
            "|388|  S. Campbell| 35| 75|             England|  Newcastle United| 75| CB|        null|https://cdn.sofif...|https://cdn.sofif...|https://cdn.sofif...| 79|Newcastle United ...|  62.0| 190.0|Right|     4| Sep 2, 2010|         null|   €0|  €0|            €0| 2010 ~ 2011|      206|      20|       28|              81|           54|   23.0|  173|       40| 19.0|         15|          44|          55|     321|          61|          68|   44.0|       68|   80.0|  319|        57|   85.0|     64|      87|        26|      296|        84|         77.0|       41.0|  57.0|       37|     null|      222|     72|             77|          73.0|         44|       11|          7|        12|             5|          9|       1581|       347|3 ★| 2★|  null|  null|3 ★| 65| 34| 43| 48| 76| 81|   3|51+0|51+0|51+0|48+0| 48+0| 48+0| 48+0|48+0| 49+0| 49+0| 49+0|48+0|56+0|56+0|56+0|48+0| 63+0| 68+0| 68+0| 68+0| 63+0| 70+0| 75+0| 75+0| 75+0| 70+0|12+0|  Male|  34.74765868886577|\n",
            "|488|      O. Kahn| 38| 87|             Germany| FC Bayern München| 87| GK|          GK|https://cdn.sofif...|https://cdn.sofif...|https://cdn.sofif...| 90|FC Bayern München...|  62.0| 198.0|Right|     3|        null|         null|   €0|  €0|            €0|        2008|       84|      21|       21|              21|           21|   null|  113|       21| null|          7|          62|          23|     204|          57|          62|   null|       85|   null|  179|        22|   null|     51|      85|        21|      228|        94|         91.0|       22.0|  null|       21|     null|       42|     21|             21|          null|        346|       83|         88|        62|            92|         83|       1196|       468|1 ★| 1★|  null|  null|4 ★| 83| 88| 62| 83| 60| 92|   4|29+0|29+0|29+0|29+0| 29+0| 29+0| 29+0|29+0| 33+0| 33+0| 33+0|29+0|36+0|36+0|36+0|29+0| 29+0| 31+0| 31+0| 31+0| 29+0| 31+0| 31+0| 31+0| 31+0| 31+0|87+0|  Male| 36.210718002081165|\n",
            "|496|    D. Hamann| 36| 61|             Germany|Milton Keynes Dons| 67| CB|        null|https://cdn.sofif...|https://cdn.sofif...|https://cdn.sofif...| 82|Milton Keynes Don...|  62.0| 168.0|Right|    21| Sep 2, 2010|         null|   €0|  €0|            €0| 2010 ~ 2011|      270|      51|       35|              62|           76|   46.0|  288|       37| 47.0|         76|          64|          64|     212|          40|          44|   28.0|       30|   70.0|  330|        71|   83.0|     28|      82|        66|      344|        74|         75.0|       51.0|  78.0|       66|     null|      198|     70|             72|          56.0|         56|       11|         12|        10|             8|         15|       1698|       343|3 ★| 2★|  null|  null|3 ★| 42| 51| 68| 46| 69| 67|   3|51+0|51+0|51+0|50+0| 51+0| 51+0| 51+0|50+0| 59+0| 59+0| 59+0|53+0|61+0|61+0|61+0|53+0| 58+0| 65+0| 65+0| 65+0| 58+0| 62+0| 67+0| 67+0| 67+0| 62+0|14+0|  Male| 30.724245577523416|\n",
            "|570|    A. Okocha| 33| 73|             Nigeria|         Hull City| 76| CF|        null|https://cdn.sofif...|https://cdn.sofif...|https://cdn.sofif...| 90|      Hull City 2009|  58.0| 154.0|Right|    17|        null|         null|   €0|  €0|            €0|        2009|      247|      72|       60|              40|           75|   null|  334|       90| null|         83|          70|          91|     192|          68|          64|   null|       60|   null|  252|        74|   null|     41|      57|        80|      249|        36|         69.0|       60.0|  null|       84|     null|       57|     23|             34|          null|         74|       11|         21|        70|            21|         21|       1405|       381|3 ★| 1★|  null|  null|2 ★| 66| 69| 74| 86| 38| 48|   3|71+0|71+0|71+0|76+0| 71+0| 71+0| 71+0|76+0| 73+0| 73+0| 73+0|76+0|71+0|71+0|71+0|76+0| 55+0| 63+0| 63+0| 63+0| 55+0| 51+0| 42+0| 42+0| 42+0| 51+0|23+0|  Male| 32.182520808561236|\n",
            "|670|         Zulu| 26| 66|              Brazil|   Pohang Steelers| 66| ST|        null|https://cdn.sofif...|https://cdn.sofif...|https://cdn.sofif...| 72|Pohang Steelers 2...|  64.0| 198.0|Right|     6| Jan 1, 2005|         null|   €0|  €0|            €0| 2005 ~ 2013|      305|      43|       66|              73|           62|   61.0|  269|       61| 55.0|         47|          47|          59|     361|          72|          76|   68.0|       67|   78.0|  351|        56|   79.0|     71|      80|        65|      261|        70|         32.0|       45.0|  62.0|       52|     null|      101|     38|             31|          32.0|         56|       10|         15|         6|            14|         11|       1704|       367|3 ★| 2★|  null|  null|1 ★| 74| 62| 55| 62| 38| 76|   3|66+0|66+0|66+0|62+0| 64+0| 64+0| 64+0|62+0| 61+0| 61+0| 61+0|60+0|59+0|59+0|59+0|60+0| 51+0| 54+0| 54+0| 54+0| 51+0| 51+0| 54+0| 54+0| 54+0| 51+0|16+0|  Male|     33.98291015625|\n",
            "|684| M. Schwarzer| 42| 73|           Australia|    Leicester City| 73| GK|        null|https://cdn.sofif...|https://cdn.sofif...|https://cdn.sofif...| 73|Leicester City 20...|  64.0| 209.0|Right|     0| Jan 6, 2015|         null|€500K|€15K|            €0| 2015 ~ 2016|       79|      13|       11|              14|           24|   17.0|   78|       13| 14.0|         11|          23|          17|     204|          23|          26|   36.0|       76|   43.0|  191|        29|   55.0|     19|      70|        18|      146|        40|         22.0|       19.0|  31.0|       34|     null|       56|     17|             19|          20.0|        357|       70|         73|        67|            78|         69|       1111|       382|3 ★| 1★|Medium|Medium|2 ★| 70| 73| 67| 69| 25| 78|   3|25+0|25+0|25+0|23+0| 24+0| 24+0| 24+0|23+0| 25+0| 25+0| 25+0|23+0|26+0|26+0|26+0|23+0| 24+0| 28+0| 28+0| 28+0| 24+0| 24+0| 30+0| 30+0| 30+0| 24+0|73+0|  Male|    35.870849609375|\n",
            "|805|   J. Lehmann| 39| 79|             Germany|     VfB Stuttgart| 81| GK|        null|https://cdn.sofif...|https://cdn.sofif...|https://cdn.sofif...| 87|  VfB Stuttgart 2010|  63.0| 192.0|Right|     8|        null|         null|   €0|  €0|            €0|        2010|       90|      21|       21|              21|           27|   null|  128|       21| null|         10|          75|          22|     171|          49|          54|   null|       68|   null|  179|        29|   null|     55|      74|        21|      291|        78|         81.0|       58.0|  null|       74|     null|       42|     21|             21|          null|        323|       77|         82|        75|            88|         76|       1224|       450|3 ★| 1★|  null|  null|4 ★| 77| 82| 75| 76| 52| 88|   3|31+0|31+0|31+0|29+0| 31+0| 31+0| 31+0|29+0| 35+0| 35+0| 35+0|29+0|38+0|38+0|38+0|29+0| 29+0| 32+0| 32+0| 32+0| 29+0| 31+0| 30+0| 30+0| 30+0| 31+0|81+0|  Male|  34.00755857898715|\n",
            "+---+-------------+---+---+--------------------+------------------+---+---+------------+--------------------+--------------------+--------------------+---+--------------------+------+------+-----+------+------------+-------------+-----+----+--------------+------------+---------+--------+---------+----------------+-------------+-------+-----+---------+-----+-----------+------------+------------+--------+------------+------------+-------+---------+-------+-----+----------+-------+-------+--------+----------+---------+----------+-------------+-----------+------+---------+---------+---------+-------+---------------+--------------+-----------+---------+-----------+----------+--------------+-----------+-----------+----------+---+---+------+------+---+---+---+---+---+---+---+----+----+----+----+----+-----+-----+-----+----+-----+-----+-----+----+----+----+----+----+-----+-----+-----+-----+-----+-----+-----+-----+-----+-----+----+------+-------------------+\n",
            "only showing top 20 rows\n",
            "\n"
          ],
          "name": "stdout"
        }
      ]
    },
    {
      "cell_type": "code",
      "metadata": {
        "colab": {
          "base_uri": "https://localhost:8080/"
        },
        "id": "xF7pMI32Sb92",
        "outputId": "12d62e9f-9fb6-4cbb-937c-39f25d0588ba"
      },
      "source": [
        "df_numeric_height_weight_filter = df_numeric_height_weight.filter('IMC > 25')\r\n",
        "df_numeric_height_weight_filter.show()"
      ],
      "execution_count": null,
      "outputs": [
        {
          "output_type": "stream",
          "text": [
            "+----+--------------+---+---+-------------------+--------------------+---+---+------------+--------------------+--------------------+--------------------+---+--------------------+------+------+-----+------+------------+-------------+-----+----+--------------+------------+---------+--------+---------+----------------+-------------+-------+-----+---------+-----+-----------+------------+------------+--------+------------+------------+-------+---------+-------+-----+----------+-------+-------+--------+----------+---------+----------+-------------+-----------+------+---------+---------+---------+-------+---------------+--------------+-----------+---------+-----------+----------+--------------+-----------+-----------+----------+---+---+------+------+---+---+---+---+---+---+---+----+----+----+----+----+-----+-----+-----+----+-----+-----+-----+----+----+----+----+----+-----+-----+-----+-----+-----+-----+----+----+----+-----+----+------+------------------+\n",
            "|  ID|          Name|Age|OVA|        Nationality|                Club|BOV| BP|    Position|        Player Photo|           Club Logo|          Flag Photo|POT|     Team & Contract|Height|Weight| foot|Growth|      Joined|Loan Date End|Value|Wage|Release Clause|    Contract|Attacking|Crossing|Finishing|Heading Accuracy|Short Passing|Volleys|Skill|Dribbling|Curve|FK Accuracy|Long Passing|Ball Control|Movement|Acceleration|Sprint Speed|Agility|Reactions|Balance|Power|Shot Power|Jumping|Stamina|Strength|Long Shots|Mentality|Aggression|Interceptions|Positioning|Vision|Penalties|Composure|Defending|Marking|Standing Tackle|Sliding Tackle|Goalkeeping|GK Diving|GK Handling|GK Kicking|GK Positioning|GK Reflexes|Total Stats|Base Stats|W/F| SM|   A/W|   D/W| IR|PAC|SHO|PAS|DRI|DEF|PHY|Hits|  LS|  ST|  RS|  LW|   LF|   CF|   RF|  RW|  LAM|  CAM|  RAM|  LM| LCM|  CM| RCM|  RM|  LWB|  LDM|  CDM|  RDM|  RWB|   LB| LCB|  CB| RCB|   RB|  GK|Gender|               IMC|\n",
            "+----+--------------+---+---+-------------------+--------------------+---+---+------------+--------------------+--------------------+--------------------+---+--------------------+------+------+-----+------+------------+-------------+-----+----+--------------+------------+---------+--------+---------+----------------+-------------+-------+-----+---------+-----+-----------+------------+------------+--------+------------+------------+-------+---------+-------+-----+----------+-------+-------+--------+----------+---------+----------+-------------+-----------+------+---------+---------+---------+-------+---------------+--------------+-----------+---------+-----------+----------+--------------+-----------+-----------+----------+---+---+------+------+---+---+---+---+---+---+---+----+----+----+----+----+-----+-----+-----+----+-----+-----+-----+----+----+----+----+----+-----+-----+-----+-----+-----+-----+----+----+----+-----+----+------+------------------+\n",
            "|   2|   G. Pasquale| 33| 69|              Italy|             Udinese| 71|LWB|          LM|https://cdn.sofif...|https://cdn.sofif...|https://cdn.sofif...| 69| Udinese 2008 ~ 2016|  60.0| 181.0| Left|     0| Jul 1, 2008|         null|€625K| €7K|            €0| 2008 ~ 2016|      313|      75|       50|              59|           71|   58.0|  338|       73| 65.0|         60|          69|          71|     347|          68|          74|   68.0|       69|   68.0|  347|        74|   68.0|     69|      68|        68|      320|        72|         69.0|       63.0|  66.0|       50|     null|      208|     70|             69|          69.0|         56|       14|          5|        15|            10|         12|       1929|       408|3 ★| 2★|Medium|  High|2 ★| 71| 59| 70| 71| 68| 69|   4|65+0|65+0|65+0|68+0| 67+0| 67+0| 67+0|68+0| 68+0| 68+0| 68+0|69+0|69+0|69+0|69+0|69+0|71+-2|70+-1|70+-1|70+-1|71+-2|70+-1|69+0|69+0|69+0|70+-1|17+0|  Male|35.345277777777774|\n",
            "|  27|       J. Cole| 33| 71|            England|       Coventry City| 71|CAM|CAM RM RW LM|https://cdn.sofif...|https://cdn.sofif...|https://cdn.sofif...| 71|Coventry City 201...|  59.0| 161.0|Right|     0| Jan 7, 2016|         null|€1.1M|€15K|            €0| 2016 ~ 2020|      337|      80|       64|              41|           77|   75.0|  387|       79| 84.0|         77|          69|          78|     295|          48|          42|   71.0|       59|   75.0|  284|        72|   58.0|     29|      56|        69|      317|        69|         39.0|       69.0|  74.0|       66|     null|       99|     35|             34|          30.0|         51|        9|          6|        13|            16|          7|       1770|       354|4 ★| 4★|Medium|   Low|2 ★| 45| 68| 76| 77| 36| 52|  11|64+0|64+0|64+0|70+0| 69+0| 69+0| 69+0|70+0| 71+0| 71+0| 71+0|68+0|66+0|66+0|66+0|68+0| 52+0| 54+0| 54+0| 54+0| 52+0| 47+0|46+0|46+0|46+0| 47+0|15+0|  Male| 32.51450732548118|\n",
            "|  41|       Iniesta| 36| 81|              Spain|         Vissel Kobe| 82|CAM|      CM CAM|https://cdn.sofif...|https://cdn.sofif...|https://cdn.sofif...| 81|Vissel Kobe 2018 ...|  57.0| 150.0|Right|     0|Jul 16, 2018|         null|€5.5M|€12K|         €7.2M| 2018 ~ 2021|      367|      75|       69|              54|           90|   79.0|  408|       85| 80.0|         70|          83|          90|     346|          61|          56|   79.0|       75|   75.0|  297|        67|   40.0|     58|      62|        70|      370|        58|         70.0|       78.0|  93.0|       71|     89.0|      181|     68|             57|          56.0|         45|        6|         13|         6|            13|          7|       2014|       420|4 ★| 4★|  High|Medium|4 ★| 58| 70| 85| 85| 63| 59| 149|72+3|72+3|72+3|79+0| 79+0| 79+0| 79+0|79+0|82+-1|82+-1|82+-1|79+2|81+0|81+0|81+0|79+2| 70+3| 73+3| 73+3| 73+3| 70+3| 67+3|64+3|64+3|64+3| 67+3|17+3|  Male| 32.45614035087719|\n",
            "|  61|    D. Odonkor| 27| 66|            Germany|    Alemannia Aachen| 66| RW|       RW RM|https://cdn.sofif...|https://cdn.sofif...|https://cdn.sofif...| 70|Alemannia Aachen ...|  58.0| 163.0|Right|     4| Jan 1, 2011|         null|€725K| €5K|            €0| 2011 ~ 2012|      271|      61|       53|              42|           58|   57.0|  276|       67| 61.0|         42|          44|          62|     406|          90|          91|   75.0|       65|   85.0|  315|        71|   70.0|     64|      61|        49|      256|        63|         26.0|       63.0|  58.0|       46|     null|       79|     22|             26|          31.0|         46|        8|         13|         7|             9|          9|       1649|       360|2 ★| 3★|Medium|Medium|2 ★| 91| 56| 56| 67| 27| 63|   7|62+0|62+0|62+0|66+0| 62+0| 62+0| 62+0|66+0| 62+0| 62+0| 62+0|64+0|54+0|54+0|54+0|64+0| 50+0| 47+0| 47+0| 47+0| 50+0| 46+0|41+0|41+0|41+0| 46+0|13+0|  Male| 34.06331747919144|\n",
            "|  80|  E. Belözoğlu| 38| 77|             Turkey|       Fenerbahçe SK| 77| CM|      CM CDM|https://cdn.sofif...|https://cdn.sofif...|https://cdn.sofif...| 77|Fenerbahçe SK 201...|  57.0| 159.0| Left|     0| Jul 2, 2019|         null|€2.8M|€44K|         €5.3M| 2019 ~ 2020|      342|      80|       66|              43|           84|   69.0|  406|       77| 83.0|         80|          85|          81|     308|          54|          36|   67.0|       70|   81.0|  340|        77|   72.0|     51|      64|        76|      384|        87|         62.0|       65.0|  85.0|       85|     80.0|      190|     65|             65|          60.0|         47|        7|         11|         7|            14|          8|       2017|       403|4 ★| 4★|Medium|Medium|2 ★| 44| 71| 83| 77| 62| 66|   7|66+2|66+2|66+2|72+0| 72+0| 72+0| 72+0|72+0| 75+2| 75+2| 75+2|72+2|76+1|76+1|76+1|72+2| 66+2| 72+2| 72+2| 72+2| 66+2| 64+2|65+2|65+2|65+2| 64+2|16+2|  Male| 34.40350877192982|\n",
            "| 246|    P. Scholes| 37| 80|            England|   Manchester United| 82|CAM|      CM CDM|https://cdn.sofif...|https://cdn.sofif...|https://cdn.sofif...| 80|Manchester United...|  57.0| 157.0|Right|     0| Jul 8, 1993|         null|€400K|€40K|            €0| 1993 ~ 2013|      394|      83|       65|              72|           89|   85.0|  393|       75| 74.0|         67|          90|          87|     338|          53|          53|   68.0|       82|   82.0|  333|        88|   64.0|     34|      63|        84|      417|        87|         79.0|       83.0|  91.0|       77|     null|      143|     58|             49|          36.0|         47|        7|         12|         5|            15|          8|       2065|       415|3 ★| 3★|Medium|Medium|2 ★| 53| 76| 87| 79| 59| 61|   7|75+0|75+0|75+0|78+0| 79+0| 79+0| 79+0|78+0|82+-2|82+-2|82+-2|78+0|80+0|80+0|80+0|78+0| 67+0| 75+0| 75+0| 75+0| 67+0| 64+0|64+0|64+0|64+0| 64+0|15+0|  Male| 33.97076023391813|\n",
            "| 250|    D. Beckham| 37| 78|            England|                null| 77| CM|       CM RM|https://cdn.sofif...|                null|https://cdn.sofif...| 78|        England Free|  60.0| 165.0|Right|     0| Jan 1, 2013|         null|   €0|  €0|            €0|England Free|      335|      82|       62|              41|           82|   68.0|  419|       66| 94.0|         89|          87|          83|     318|          54|          62|   58.0|       80|   64.0|  372|        79|   59.0|     81|      70|        83|      367|        81|         57.0|       72.0|  87.0|       70|     null|      150|     60|             46|          44.0|         51|       10|         12|         7|            15|          7|       2012|       411|3 ★| 2★|Medium|Medium|3 ★| 58| 71| 85| 71| 52| 74|  16|68+1|68+1|68+1|74+1| 73+1| 73+1| 73+1|74+1| 77+1| 77+1| 77+1|77+1|77+1|77+1|77+1|77+1| 67+1| 73+1| 73+1| 73+1| 67+1| 63+1|59+1|59+1|59+1| 63+1|15+1|  Male| 32.22083333333333|\n",
            "| 330|      R. Keane| 35| 80|Republic of Ireland|           LA Galaxy| 81| CF|          ST|https://cdn.sofif...|https://cdn.sofif...|https://cdn.sofif...| 80|LA Galaxy 2011 ~ ...|  59.0| 161.0|Right|     0| Aug 1, 2011|         null|€5.5M|€10K|            €0| 2011 ~ 2022|      380|      68|       84|              63|           81|   84.0|  374|       82| 82.0|         63|          63|          84|     380|          69|          68|   77.0|       83|   83.0|  363|        81|   62.0|     72|      68|        80|      343|        67|         34.0|       85.0|  82.0|       75|     86.0|       71|     28|             26|          17.0|         63|       11|          9|        13|            14|         16|       1974|       407|4 ★| 3★|  High|   Low|2 ★| 68| 82| 75| 82| 31| 69|  10|79+1|79+1|79+1|79+0|81+-1|81+-1|81+-1|79+0|81+-1|81+-1|81+-1|78+1|74+1|74+1|74+1|78+1| 57+1| 57+1| 57+1| 57+1| 57+1| 52+1|47+1|47+1|47+1| 52+1|20+1|  Male| 32.51450732548118|\n",
            "| 388|   S. Campbell| 35| 75|            England|    Newcastle United| 75| CB|        null|https://cdn.sofif...|https://cdn.sofif...|https://cdn.sofif...| 79|Newcastle United ...|  62.0| 190.0|Right|     4| Sep 2, 2010|         null|   €0|  €0|            €0| 2010 ~ 2011|      206|      20|       28|              81|           54|   23.0|  173|       40| 19.0|         15|          44|          55|     321|          61|          68|   44.0|       68|   80.0|  319|        57|   85.0|     64|      87|        26|      296|        84|         77.0|       41.0|  57.0|       37|     null|      222|     72|             77|          73.0|         44|       11|          7|        12|             5|          9|       1581|       347|3 ★| 2★|  null|  null|3 ★| 65| 34| 43| 48| 76| 81|   3|51+0|51+0|51+0|48+0| 48+0| 48+0| 48+0|48+0| 49+0| 49+0| 49+0|48+0|56+0|56+0|56+0|48+0| 63+0| 68+0| 68+0| 68+0| 63+0| 70+0|75+0|75+0|75+0| 70+0|12+0|  Male| 34.74765868886577|\n",
            "| 488|       O. Kahn| 38| 87|            Germany|   FC Bayern München| 87| GK|          GK|https://cdn.sofif...|https://cdn.sofif...|https://cdn.sofif...| 90|FC Bayern München...|  62.0| 198.0|Right|     3|        null|         null|   €0|  €0|            €0|        2008|       84|      21|       21|              21|           21|   null|  113|       21| null|          7|          62|          23|     204|          57|          62|   null|       85|   null|  179|        22|   null|     51|      85|        21|      228|        94|         91.0|       22.0|  null|       21|     null|       42|     21|             21|          null|        346|       83|         88|        62|            92|         83|       1196|       468|1 ★| 1★|  null|  null|4 ★| 83| 88| 62| 83| 60| 92|   4|29+0|29+0|29+0|29+0| 29+0| 29+0| 29+0|29+0| 33+0| 33+0| 33+0|29+0|36+0|36+0|36+0|29+0| 29+0| 31+0| 31+0| 31+0| 29+0| 31+0|31+0|31+0|31+0| 31+0|87+0|  Male|36.210718002081165|\n",
            "| 496|     D. Hamann| 36| 61|            Germany|  Milton Keynes Dons| 67| CB|        null|https://cdn.sofif...|https://cdn.sofif...|https://cdn.sofif...| 82|Milton Keynes Don...|  62.0| 168.0|Right|    21| Sep 2, 2010|         null|   €0|  €0|            €0| 2010 ~ 2011|      270|      51|       35|              62|           76|   46.0|  288|       37| 47.0|         76|          64|          64|     212|          40|          44|   28.0|       30|   70.0|  330|        71|   83.0|     28|      82|        66|      344|        74|         75.0|       51.0|  78.0|       66|     null|      198|     70|             72|          56.0|         56|       11|         12|        10|             8|         15|       1698|       343|3 ★| 2★|  null|  null|3 ★| 42| 51| 68| 46| 69| 67|   3|51+0|51+0|51+0|50+0| 51+0| 51+0| 51+0|50+0| 59+0| 59+0| 59+0|53+0|61+0|61+0|61+0|53+0| 58+0| 65+0| 65+0| 65+0| 58+0| 62+0|67+0|67+0|67+0| 62+0|14+0|  Male|30.724245577523416|\n",
            "| 570|     A. Okocha| 33| 73|            Nigeria|           Hull City| 76| CF|        null|https://cdn.sofif...|https://cdn.sofif...|https://cdn.sofif...| 90|      Hull City 2009|  58.0| 154.0|Right|    17|        null|         null|   €0|  €0|            €0|        2009|      247|      72|       60|              40|           75|   null|  334|       90| null|         83|          70|          91|     192|          68|          64|   null|       60|   null|  252|        74|   null|     41|      57|        80|      249|        36|         69.0|       60.0|  null|       84|     null|       57|     23|             34|          null|         74|       11|         21|        70|            21|         21|       1405|       381|3 ★| 1★|  null|  null|2 ★| 66| 69| 74| 86| 38| 48|   3|71+0|71+0|71+0|76+0| 71+0| 71+0| 71+0|76+0| 73+0| 73+0| 73+0|76+0|71+0|71+0|71+0|76+0| 55+0| 63+0| 63+0| 63+0| 55+0| 51+0|42+0|42+0|42+0| 51+0|23+0|  Male|32.182520808561236|\n",
            "| 670|          Zulu| 26| 66|             Brazil|     Pohang Steelers| 66| ST|        null|https://cdn.sofif...|https://cdn.sofif...|https://cdn.sofif...| 72|Pohang Steelers 2...|  64.0| 198.0|Right|     6| Jan 1, 2005|         null|   €0|  €0|            €0| 2005 ~ 2013|      305|      43|       66|              73|           62|   61.0|  269|       61| 55.0|         47|          47|          59|     361|          72|          76|   68.0|       67|   78.0|  351|        56|   79.0|     71|      80|        65|      261|        70|         32.0|       45.0|  62.0|       52|     null|      101|     38|             31|          32.0|         56|       10|         15|         6|            14|         11|       1704|       367|3 ★| 2★|  null|  null|1 ★| 74| 62| 55| 62| 38| 76|   3|66+0|66+0|66+0|62+0| 64+0| 64+0| 64+0|62+0| 61+0| 61+0| 61+0|60+0|59+0|59+0|59+0|60+0| 51+0| 54+0| 54+0| 54+0| 51+0| 51+0|54+0|54+0|54+0| 51+0|16+0|  Male|    33.98291015625|\n",
            "| 684|  M. Schwarzer| 42| 73|          Australia|      Leicester City| 73| GK|        null|https://cdn.sofif...|https://cdn.sofif...|https://cdn.sofif...| 73|Leicester City 20...|  64.0| 209.0|Right|     0| Jan 6, 2015|         null|€500K|€15K|            €0| 2015 ~ 2016|       79|      13|       11|              14|           24|   17.0|   78|       13| 14.0|         11|          23|          17|     204|          23|          26|   36.0|       76|   43.0|  191|        29|   55.0|     19|      70|        18|      146|        40|         22.0|       19.0|  31.0|       34|     null|       56|     17|             19|          20.0|        357|       70|         73|        67|            78|         69|       1111|       382|3 ★| 1★|Medium|Medium|2 ★| 70| 73| 67| 69| 25| 78|   3|25+0|25+0|25+0|23+0| 24+0| 24+0| 24+0|23+0| 25+0| 25+0| 25+0|23+0|26+0|26+0|26+0|23+0| 24+0| 28+0| 28+0| 28+0| 24+0| 24+0|30+0|30+0|30+0| 24+0|73+0|  Male|   35.870849609375|\n",
            "| 805|    J. Lehmann| 39| 79|            Germany|       VfB Stuttgart| 81| GK|        null|https://cdn.sofif...|https://cdn.sofif...|https://cdn.sofif...| 87|  VfB Stuttgart 2010|  63.0| 192.0|Right|     8|        null|         null|   €0|  €0|            €0|        2010|       90|      21|       21|              21|           27|   null|  128|       21| null|         10|          75|          22|     171|          49|          54|   null|       68|   null|  179|        29|   null|     55|      74|        21|      291|        78|         81.0|       58.0|  null|       74|     null|       42|     21|             21|          null|        323|       77|         82|        75|            88|         76|       1224|       450|3 ★| 1★|  null|  null|4 ★| 77| 82| 75| 76| 52| 88|   3|31+0|31+0|31+0|29+0| 31+0| 31+0| 31+0|29+0| 35+0| 35+0| 35+0|29+0|38+0|38+0|38+0|29+0| 29+0| 32+0| 32+0| 32+0| 29+0| 31+0|30+0|30+0|30+0| 31+0|81+0|  Male| 34.00755857898715|\n",
            "|1001|     G. Király| 39| 69|            Hungary|             Hungary| 69| GK|        null|https://cdn.sofif...|https://cdn.sofif...|https://cdn.sofif...| 69|        Hungary Free|  64.0| 201.0|Right|     0| Jul 1, 2015|         null|   €0|  €0|            €0|        Free|       94|      18|       20|              14|           25|   17.0|   83|       18| 12.0|         12|          28|          13|     227|          35|          31|   54.0|       66|   41.0|  209|        18|   77.0|     34|      67|        13|       90|        27|         11.0|       15.0|  16.0|       21|     null|       41|     11|             14|          16.0|        340|       71|         70|        60|            71|         68|       1084|       373|2 ★| 1★|Medium|Medium|2 ★| 71| 70| 60| 68| 33| 71|   3|25+0|25+0|25+0|24+0| 23+0| 23+0| 23+0|24+0| 24+0| 24+0| 24+0|24+0|23+0|23+0|23+0|24+0| 23+0| 24+0| 24+0| 24+0| 23+0| 23+0|25+0|25+0|25+0| 23+0|69+0|  Male|   34.497802734375|\n",
            "|1040|Roberto Carlos| 38| 79|             Brazil|FC Anzhi Makhachkala| 79|CDM|   CDM LB LM|https://cdn.sofif...|https://cdn.sofif...|https://cdn.sofif...| 79|FC Anzhi Makhachk...|  56.0| 154.0| Left|     0| Jan 1, 2011|         null|   €0|€30K|            €0| 2011 ~ 2013|      328|      80|       43|              54|           78|   73.0|  414|       74| 88.0|         88|          82|          82|     391|          77|          78|   74.0|       77|   85.0|  403|        91|   83.0|     60|      84|        85|      377|        74|         82.0|       60.0|  82.0|       79|     null|      240|     81|             75|          84.0|         54|        8|         12|        10|            13|         11|       2207|       454|2 ★| 3★|Medium|  High|2 ★| 78| 65| 81| 77| 77| 76|   9|68+0|68+0|68+0|75+0| 73+0| 73+0| 73+0|75+0| 76+0| 76+0| 76+0|76+0|77+0|77+0|77+0|76+0| 78+0| 79+0| 79+0| 79+0| 78+0| 76+0|77+0|77+0|77+0| 76+0|15+0|  Male| 34.52232142857143|\n",
            "|1075|  A. Del Piero| 38| 70|              Italy|           Sydney FC| 74|CAM|      ST CAM|https://cdn.sofif...|https://cdn.sofif...|https://cdn.sofif...| 70|Sydney FC 2012 ~ ...|  59.0| 163.0|Right|     0| Sep 1, 2012|         null|€190K|€30K|            €0| 2012 ~ 2014|      343|      70|       80|              50|           71|   72.0|  376|       72| 77.0|         81|          64|          82|     243|          27|          31|   42.0|       80|   63.0|  245|        70|   34.0|     30|      34|        77|      344|        61|         39.0|       82.0|  80.0|       82|     null|       89|     25|             35|          29.0|         42|       11|          8|         6|             6|         11|       1682|       322|5 ★| 4★|   Low|   Low|3 ★| 29| 77| 72| 72| 34| 38|   8|69+1|69+1|69+1|69+1|72+-2|72+-2|72+-2|69+1|74+-4|74+-4|74+-4|67+1|67+1|67+1|67+1|67+1| 52+1| 55+1| 55+1| 55+1| 52+1| 47+1|43+1|43+1|43+1| 47+1|13+1|  Male| 32.91841424877909|\n",
            "|1088|      A. Nesta| 37| 73|              Italy|     Montreal Impact| 72| CB|          CB|https://cdn.sofif...|https://cdn.sofif...|https://cdn.sofif...| 73|Montreal Impact 2...|  62.0| 174.0|Right|     0| Jul 1, 2012|         null|   €0| €6K|            €0| 2012 ~ 2013|      231|      36|       22|              71|           65|   37.0|  257|       54| 46.0|         25|          62|          70|     243|          50|          34|   38.0|       70|   51.0|  263|        48|   74.0|     33|      74|        34|      277|        67|         76.0|       37.0|  55.0|       42|     null|      221|     74|             77|          70.0|         56|        8|          9|        14|            12|         13|       1548|       322|3 ★| 2★|Medium|  High|3 ★| 41| 32| 54| 58| 75| 62|   7|47+1|47+1|47+1|49+1| 49+1| 49+1| 49+1|49+1| 53+1| 53+1| 53+1|53+1|59+1|59+1|59+1|53+1| 61+1| 67+1| 67+1| 67+1| 61+1| 64+1|72+1|72+1|72+1| 64+1|14+1|  Male|31.821540062434963|\n",
            "|1109|    P. Maldini| 40| 77|              Italy|               Milan| 78| CB|          CB|https://cdn.sofif...|https://cdn.sofif...|https://cdn.sofif...| 89|          Milan 2009|  61.0| 187.0|Right|    12|        null|         null|   €0|  €0|            €0|        2009|      276|      73|       42|              85|           76|   null|  232|       60| null|         26|          70|          76|     174|          50|          55|   null|       69|   null|  197|        60|   null|     54|      62|        21|      357|        76|         95.0|       96.0|  null|       90|     null|      167|     85|             82|          null|         68|        5|         21|        70|            21|         21|       1471|       382|4 ★| 1★|  null|  null|5 ★| 53| 45| 69| 67| 86| 62|  10|57+0|57+0|57+0|68+0| 57+0| 57+0| 57+0|68+0| 64+0| 64+0| 64+0|68+0|71+0|71+0|71+0|68+0| 75+0| 73+0| 73+0| 73+0| 75+0| 77+0|78+0|78+0|78+0| 77+0|22+0|  Male|35.329481322225206|\n",
            "+----+--------------+---+---+-------------------+--------------------+---+---+------------+--------------------+--------------------+--------------------+---+--------------------+------+------+-----+------+------------+-------------+-----+----+--------------+------------+---------+--------+---------+----------------+-------------+-------+-----+---------+-----+-----------+------------+------------+--------+------------+------------+-------+---------+-------+-----+----------+-------+-------+--------+----------+---------+----------+-------------+-----------+------+---------+---------+---------+-------+---------------+--------------+-----------+---------+-----------+----------+--------------+-----------+-----------+----------+---+---+------+------+---+---+---+---+---+---+---+----+----+----+----+----+-----+-----+-----+----+-----+-----+-----+----+----+----+----+----+-----+-----+-----+-----+-----+-----+----+----+----+-----+----+------+------------------+\n",
            "only showing top 20 rows\n",
            "\n"
          ],
          "name": "stdout"
        }
      ]
    },
    {
      "cell_type": "code",
      "metadata": {
        "id": "h66CPUFSTIVN"
      },
      "source": [
        "#Save as orc file\r\n",
        "df_numeric_height_weight_filter.coalesce(1).write \\\r\n",
        "                    .format('orc') \\\r\n",
        "                    .mode('overwrite') \\\r\n",
        "                    .save('df_numeric_height_weight_filter_out_orc')"
      ],
      "execution_count": null,
      "outputs": []
    }
  ]
}